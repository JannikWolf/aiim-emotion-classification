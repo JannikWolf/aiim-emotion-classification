{
 "cells": [
  {
   "cell_type": "markdown",
   "source": [
    "# AIIM Kaggle Competition Submission\n",
    "\n",
    "**Group (AI Caramba):**\n",
    "*   Anes Darwiche: 7419024\n",
    "*   Jannik Wolf: 7419074\n",
    "*   Metehan Emir: 7364469\n",
    "*   Tim Oehlert: 7424107"
   ],
   "metadata": {
    "collapsed": false
   },
   "id": "ad58960f865f1255"
  },
  {
   "cell_type": "markdown",
   "source": [
    "# About this Competition:\n",
    "\n",
    "**Dates:**\n",
    "*   Start: 16.05.2024\n",
    "*   End: 26.06.2024\n",
    "\n",
    "**Goal:**\n",
    "\n",
    "The goal of this project is to explore different techniques of image classification in order to correctly classify the emotions shown by humans on the images in the given dataset. The facial expressions can be assigned to the following emotions: **Angry, Fear, Happy, Sad, Surprise**.\n",
    "The dataset consists of 100x100 pixel greyscal images of faces, where every picture is more or less centered and occupies the same space in each image. The training set includes 9,108 examples."
   ],
   "metadata": {
    "collapsed": false
   },
   "id": "537f70296b0a255c"
  },
  {
   "cell_type": "markdown",
   "source": [
    "# About this Notebook:\n",
    "\n",
    "In this notebook we will explore our approach of exploring and optimizing different pretrained models in order to correctly classify the emotions of humans in pictures.\n",
    "In our final approach we focused on the following models:\n",
    "*   Densenet\n",
    "*   Swin Transformer\n",
    "*   Resnet (18 & 50)"
   ],
   "metadata": {
    "collapsed": false
   },
   "id": "7317469c843dd6a8"
  },
  {
   "cell_type": "markdown",
   "source": [
    "# 1. Data Understanding\n",
    "First impression of the dataset was that it's very sparse. The images are very small and the emotions are not always clearly visible. Even if you would try to classify the facial expressions to a emotion manually, for some images it seems to be quite of a challenge. This makes it hard to classify the emotions correctly for some of the images. That's why we instantly thought about using pretrained image recognition models, as they are already trained on a huge amount of data and should be able to classify the emotions more accurately than a model trained from scratch. Furthermore, we had a feeling that it might be quite hard to achieve a accuracy of >90% with the given dataset due to the described reasons.\n",
    "\n",
    "To initialize the project we first load the data and transform it into a format we can work with:"
   ],
   "metadata": {
    "collapsed": false
   },
   "id": "930143a3cd21ac82"
  },
  {
   "cell_type": "code",
   "execution_count": 1,
   "outputs": [],
   "source": [
    "import torch\n",
    "import torch.nn as nn\n",
    "from torchvision import models, transforms\n",
    "from torch.optim import AdamW\n",
    "from torch.utils.data import DataLoader, Dataset\n",
    "import os\n",
    "from PIL import Image\n",
    "from sklearn.model_selection import train_test_split\n",
    "import pandas as pd\n",
    "import numpy as np\n",
    "import matplotlib.pyplot as plt\n",
    "\n",
    "# Define emotion labels and number of classes\n",
    "emotions = ['angry', 'fear', 'happy', 'sad', 'surprise']\n",
    "num_classes = len(emotions)\n",
    "\n",
    "# Define device (GPU if available)\n",
    "device = torch.device(\"cuda\" if torch.cuda.is_available() else \"cpu\")\n",
    "\n",
    "# Custom Dataset class\n",
    "class EmotionDataset(Dataset):\n",
    "    def __init__(self, image_paths, labels=None, transform=None):\n",
    "        self.image_paths = image_paths\n",
    "        self.labels = labels\n",
    "        self.transform = transform\n",
    "\n",
    "    def __len__(self):\n",
    "        return len(self.image_paths)\n",
    "\n",
    "    def __getitem__(self, idx):\n",
    "        img_path = self.image_paths[idx]\n",
    "        image = Image.open(img_path).convert('RGB')\n",
    "        label = self.labels[idx] if self.labels is not None else None\n",
    "        if self.transform:\n",
    "            image = self.transform(image)\n",
    "        return (image, label) if label is not None else image\n",
    "\n",
    "# Load dataset\n",
    "train_dir = 'data/train'\n",
    "file_names = []\n",
    "labels = []\n",
    "\n",
    "for label, emotion in enumerate(emotions):\n",
    "    emotion_dir = os.path.join(train_dir, emotion)\n",
    "    for img_file in os.listdir(emotion_dir):\n",
    "        file_path = os.path.join(emotion_dir, img_file)\n",
    "        file_names.append(file_path)\n",
    "        labels.append(label)"
   ],
   "metadata": {
    "collapsed": false,
    "ExecuteTime": {
     "end_time": "2024-06-25T11:38:06.411282500Z",
     "start_time": "2024-06-25T11:38:03.704806300Z"
    }
   },
   "id": "4d5dde3b53e35273"
  },
  {
   "cell_type": "markdown",
   "source": [
    "We check the distribution of the classes in the dataset to see if there are any major imbalances:"
   ],
   "metadata": {
    "collapsed": false
   },
   "id": "8ef4ac2595b100db"
  },
  {
   "cell_type": "code",
   "execution_count": 18,
   "outputs": [
    {
     "data": {
      "text/plain": "<Figure size 1000x500 with 1 Axes>",
      "image/png": "[encoded data removed]"
     },
     "metadata": {},
     "output_type": "display_data"
    },
    {
     "name": "stdout",
     "output_type": "stream",
     "text": [
      "angry: 2000\n",
      "fear: 1108\n",
      "happy: 2000\n",
      "sad: 2000\n",
      "surprise: 2000\n"
     ]
    }
   ],
   "source": [
    "import os\n",
    "import matplotlib.pyplot as plt\n",
    "\n",
    "# Count the number of files in each class directory\n",
    "class_counts = {emotion: len(os.listdir(os.path.join(train_dir, emotion))) for emotion in emotions}\n",
    "\n",
    "# Plot the class distribution\n",
    "plt.figure(figsize=(10, 5))\n",
    "plt.bar(class_counts.keys(), class_counts.values(), color='skyblue')\n",
    "plt.xlabel('Emotions')\n",
    "plt.ylabel('Number of Images')\n",
    "plt.title('Class Distribution of the Dataset')\n",
    "plt.show()\n",
    "\n",
    "# Print the class counts\n",
    "for emotion, count in class_counts.items():\n",
    "    print(f'{emotion}: {count}')\n"
   ],
   "metadata": {
    "collapsed": false,
    "ExecuteTime": {
     "end_time": "2024-06-25T10:53:35.184982400Z",
     "start_time": "2024-06-25T10:53:35.100410200Z"
    }
   },
   "id": "c77cd572e2c060c7"
  },
  {
   "cell_type": "markdown",
   "source": [
    "We can see that the classes are quite balanced, we just have less images for the \"fear\" class.\n",
    "For the moment we are aware of that but do not take any further actions. What we could do is to use over- or undersampling techniques to balance the classes, but we will leave this for now to see how the models perform without any adjustments."
   ],
   "metadata": {
    "collapsed": false
   },
   "id": "70cf280e8349ce50"
  },
  {
   "cell_type": "markdown",
   "source": [
    "# 2. Data Preparation\n",
    "To initialize the data preparation we first split the data into a training and validation set to prevent changing the validation data as they should represent unseen real-world data. As we have a quite small dataset after testing around for some time with a 80/20 split we decided to use a 90/10 split for training and validation data, as this gives us more data to train on but still a decent amount of data to validate our models on (although we are well aware of the fact that a 10% validation set is quite small and leads to high fluctuation in validation accuracy scores). We also considered to use no validation set at all when we are confident about our final model to train on the whole dataset to increase the performance of the model."
   ],
   "metadata": {
    "collapsed": false
   },
   "id": "aeb5b77c2e017daa"
  },
  {
   "cell_type": "code",
   "execution_count": 2,
   "outputs": [],
   "source": [
    "# Split dataset\n",
    "train_files, val_files, train_labels, val_labels = train_test_split(file_names, labels, test_size=0.1, random_state=42)"
   ],
   "metadata": {
    "collapsed": false,
    "ExecuteTime": {
     "end_time": "2024-06-25T11:38:16.918110700Z",
     "start_time": "2024-06-25T11:38:16.897027800Z"
    }
   },
   "id": "93f73c5be06a61ac"
  },
  {
   "cell_type": "markdown",
   "source": [
    "For the preprocessing step we transform our data to enhance the generalization capabilities of our models. We have tried a lot of different data augmentation approaches and had quite a tough time to actually make the models perform better by adapting data augmentation. We tried different combinations of data augmentation techniques (e.g. random rotation, random flips, random color jittering, erasing, etc.) came to the conclusion that less is more in this case and ended up with this simple data augmentation approach:\n",
    "- Resize the images to 224x224 pixels (as most pretrained models require this size)\n",
    "- Random horizontal flip \n",
    "- Bring images into tensor format\n",
    "- Normalize the images with the mean and standard deviation of the ImageNet dataset"
   ],
   "metadata": {
    "collapsed": false
   },
   "id": "a5eafa24dd9f894b"
  },
  {
   "cell_type": "code",
   "execution_count": 3,
   "outputs": [],
   "source": [
    "# Data augmentations\n",
    "transform_train = transforms.Compose([\n",
    "    transforms.Resize((224, 224)),\n",
    "    #transforms.RandomRotation(30),\n",
    "    transforms.RandomHorizontalFlip(),\n",
    "    #transforms.RandomVerticalFlip(),\n",
    "    #transforms.ColorJitter(brightness=0.1, contrast=0.2, saturation=0.2, hue=0.2),\n",
    "    transforms.ToTensor(),\n",
    "    transforms.Normalize(mean=[0.485, 0.456, 0.406], std=[0.229, 0.224, 0.225])\n",
    "])\n",
    "\n",
    "transform_val = transforms.Compose([\n",
    "    transforms.Resize((224, 224)),\n",
    "    transforms.ToTensor(),\n",
    "    transforms.Normalize(mean=[0.485, 0.456, 0.406], std=[0.229, 0.224, 0.225])\n",
    "])"
   ],
   "metadata": {
    "collapsed": false,
    "ExecuteTime": {
     "end_time": "2024-06-25T11:38:18.290881500Z",
     "start_time": "2024-06-25T11:38:18.283875800Z"
    }
   },
   "id": "e9ea5b350a17b07a"
  },
  {
   "cell_type": "markdown",
   "source": [
    "We then create the dataloaders for the training and validation data. We played around with the batch size and ended up with a batch size of 16, as this gave us the best results in terms of training time and model performance.\n",
    "We also tried to use a higher batch size of 32, 64 and even 128 but this led to a higher fluctuation in the validation accuracy scores and a longer training time."
   ],
   "metadata": {
    "collapsed": false
   },
   "id": "bedee9271f10bf1c"
  },
  {
   "cell_type": "code",
   "execution_count": 4,
   "outputs": [],
   "source": [
    "train_dataset = EmotionDataset(train_files, train_labels, transform=transform_train)\n",
    "val_dataset = EmotionDataset(val_files, val_labels, transform=transform_val)\n",
    "\n",
    "train_dl = DataLoader(train_dataset, batch_size=16, shuffle=True)\n",
    "val_dl = DataLoader(val_dataset, batch_size=16, shuffle=False)"
   ],
   "metadata": {
    "collapsed": false,
    "ExecuteTime": {
     "end_time": "2024-06-25T11:38:19.956026700Z",
     "start_time": "2024-06-25T11:38:19.942034900Z"
    }
   },
   "id": "48d7d97e7985c9fd"
  },
  {
   "cell_type": "markdown",
   "source": [
    "In order to manually check the effect of the data augmentation we can visualize some images after the transformation. At some point we applied pretty heavy augmentation which lead to a very noise image that (at least for a human) was not recognizable as a face anymore. Among other reasons that's why we ended up with the simple data augmentation approach."
   ],
   "metadata": {
    "collapsed": false
   },
   "id": "e3843069e066aff2"
  },
  {
   "cell_type": "code",
   "execution_count": 5,
   "outputs": [
    {
     "data": {
      "text/plain": "<Figure size 640x480 with 1 Axes>",
      "image/png": "[encoded data removed]"
     },
     "metadata": {},
     "output_type": "display_data"
    }
   ],
   "source": [
    "import torchvision\n",
    "\n",
    "def imshow(inp, title=None):\n",
    "    \"\"\"Imshow for Tensor.\"\"\"\n",
    "    inp = inp.numpy().transpose((1, 2, 0))\n",
    "    mean = np.array([0.485, 0.456, 0.406])\n",
    "    std = np.array([0.229, 0.224, 0.225])\n",
    "    inp = std * inp + mean\n",
    "    inp = np.clip(inp, 0, 1)\n",
    "    plt.imshow(inp)\n",
    "    if title is not None:\n",
    "        plt.title(title)\n",
    "    plt.pause(0.001)  \n",
    "\n",
    "# Get a batch of training data\n",
    "inputs, classes = next(iter(DataLoader(train_dataset, batch_size=4, shuffle=True)))\n",
    "\n",
    "# Make a grid from batch\n",
    "out = torchvision.utils.make_grid(inputs)\n",
    "\n",
    "imshow(out, title=[emotions[x] for x in classes])"
   ],
   "metadata": {
    "collapsed": false,
    "ExecuteTime": {
     "end_time": "2024-06-25T11:38:22.046857600Z",
     "start_time": "2024-06-25T11:38:21.866623800Z"
    }
   },
   "id": "be9a2caa6a052201"
  },
  {
   "cell_type": "markdown",
   "source": [
    "# 3. Model Selection & Evaluation\n",
    "In this section we will explore different pretrained models and evaluate their performance on the given dataset. As this report is pretty dense we will only show the results of out most promising models. We have tried many more models and approaches but will only show the most promising ones in this report. We tried to train our own models, use different pretrained models and also tried to use ensemble methods to combine different models. We also tried to use different loss functions, optimizers and learning rates but will only show the most promising results in this report.\n",
    "\n",
    "To initially decide on what models we want to dig deeper\n",
    "\n",
    "- give more context:\n",
    "- why did we choose these models?\n",
    "- what are the advantages/disadvantages of these models?\n",
    "- what did we do with the hyperparameters?\n",
    "- explain what we did, but did not work out"
   ],
   "metadata": {
    "collapsed": false
   },
   "id": "1b785769d01d01a1"
  },
  {
   "cell_type": "markdown",
   "source": [
    "# Densenet\n",
    "\n",
    "Besides the excersises in class, Densenet was the first model we experimented with. Densenet is a convolutional network that connects each layer to every other layer. It is often named as a good model for image classification. In our approach we use the pretrained weights. There are three fully connected layers with an activation function (ReLu) and one final output layer with the same number of units as our emotion classes. There is also a drouput layer included with a dropout probability of 30%. We experimented with adding more layers and with the dropout rate but experienced the best results with the following configuration."
   ],
   "metadata": {
    "collapsed": false
   },
   "id": "e0ef2974191bbc29"
  },
  {
   "cell_type": "code",
   "execution_count": 7,
   "outputs": [
    {
     "data": {
      "text/plain": "DenseNet(\n  (features): Sequential(\n    (conv0): Conv2d(3, 64, kernel_size=(7, 7), stride=(2, 2), padding=(3, 3), bias=False)\n    (norm0): BatchNorm2d(64, eps=1e-05, momentum=0.1, affine=True, track_running_stats=True)\n    (relu0): ReLU(inplace=True)\n    (pool0): MaxPool2d(kernel_size=3, stride=2, padding=1, dilation=1, ceil_mode=False)\n    (denseblock1): _DenseBlock(\n      (denselayer1): _DenseLayer(\n        (norm1): BatchNorm2d(64, eps=1e-05, momentum=0.1, affine=True, track_running_stats=True)\n        (relu1): ReLU(inplace=True)\n        (conv1): Conv2d(64, 128, kernel_size=(1, 1), stride=(1, 1), bias=False)\n        (norm2): BatchNorm2d(128, eps=1e-05, momentum=0.1, affine=True, track_running_stats=True)\n        (relu2): ReLU(inplace=True)\n        (conv2): Conv2d(128, 32, kernel_size=(3, 3), stride=(1, 1), padding=(1, 1), bias=False)\n      )\n      (denselayer2): _DenseLayer(\n        (norm1): BatchNorm2d(96, eps=1e-05, momentum=0.1, affine=True, track_running_stats=True)\n        (relu1): ReLU(inplace=True)\n        (conv1): Conv2d(96, 128, kernel_size=(1, 1), stride=(1, 1), bias=False)\n        (norm2): BatchNorm2d(128, eps=1e-05, momentum=0.1, affine=True, track_running_stats=True)\n        (relu2): ReLU(inplace=True)\n        (conv2): Conv2d(128, 32, kernel_size=(3, 3), stride=(1, 1), padding=(1, 1), bias=False)\n      )\n      (denselayer3): _DenseLayer(\n        (norm1): BatchNorm2d(128, eps=1e-05, momentum=0.1, affine=True, track_running_stats=True)\n        (relu1): ReLU(inplace=True)\n        (conv1): Conv2d(128, 128, kernel_size=(1, 1), stride=(1, 1), bias=False)\n        (norm2): BatchNorm2d(128, eps=1e-05, momentum=0.1, affine=True, track_running_stats=True)\n        (relu2): ReLU(inplace=True)\n        (conv2): Conv2d(128, 32, kernel_size=(3, 3), stride=(1, 1), padding=(1, 1), bias=False)\n      )\n      (denselayer4): _DenseLayer(\n        (norm1): BatchNorm2d(160, eps=1e-05, momentum=0.1, affine=True, track_running_stats=True)\n        (relu1): ReLU(inplace=True)\n        (conv1): Conv2d(160, 128, kernel_size=(1, 1), stride=(1, 1), bias=False)\n        (norm2): BatchNorm2d(128, eps=1e-05, momentum=0.1, affine=True, track_running_stats=True)\n        (relu2): ReLU(inplace=True)\n        (conv2): Conv2d(128, 32, kernel_size=(3, 3), stride=(1, 1), padding=(1, 1), bias=False)\n      )\n      (denselayer5): _DenseLayer(\n        (norm1): BatchNorm2d(192, eps=1e-05, momentum=0.1, affine=True, track_running_stats=True)\n        (relu1): ReLU(inplace=True)\n        (conv1): Conv2d(192, 128, kernel_size=(1, 1), stride=(1, 1), bias=False)\n        (norm2): BatchNorm2d(128, eps=1e-05, momentum=0.1, affine=True, track_running_stats=True)\n        (relu2): ReLU(inplace=True)\n        (conv2): Conv2d(128, 32, kernel_size=(3, 3), stride=(1, 1), padding=(1, 1), bias=False)\n      )\n      (denselayer6): _DenseLayer(\n        (norm1): BatchNorm2d(224, eps=1e-05, momentum=0.1, affine=True, track_running_stats=True)\n        (relu1): ReLU(inplace=True)\n        (conv1): Conv2d(224, 128, kernel_size=(1, 1), stride=(1, 1), bias=False)\n        (norm2): BatchNorm2d(128, eps=1e-05, momentum=0.1, affine=True, track_running_stats=True)\n        (relu2): ReLU(inplace=True)\n        (conv2): Conv2d(128, 32, kernel_size=(3, 3), stride=(1, 1), padding=(1, 1), bias=False)\n      )\n    )\n    (transition1): _Transition(\n      (norm): BatchNorm2d(256, eps=1e-05, momentum=0.1, affine=True, track_running_stats=True)\n      (relu): ReLU(inplace=True)\n      (conv): Conv2d(256, 128, kernel_size=(1, 1), stride=(1, 1), bias=False)\n      (pool): AvgPool2d(kernel_size=2, stride=2, padding=0)\n    )\n    (denseblock2): _DenseBlock(\n      (denselayer1): _DenseLayer(\n        (norm1): BatchNorm2d(128, eps=1e-05, momentum=0.1, affine=True, track_running_stats=True)\n        (relu1): ReLU(inplace=True)\n        (conv1): Conv2d(128, 128, kernel_size=(1, 1), stride=(1, 1), bias=False)\n        (norm2): BatchNorm2d(128, eps=1e-05, momentum=0.1, affine=True, track_running_stats=True)\n        (relu2): ReLU(inplace=True)\n        (conv2): Conv2d(128, 32, kernel_size=(3, 3), stride=(1, 1), padding=(1, 1), bias=False)\n      )\n      (denselayer2): _DenseLayer(\n        (norm1): BatchNorm2d(160, eps=1e-05, momentum=0.1, affine=True, track_running_stats=True)\n        (relu1): ReLU(inplace=True)\n        (conv1): Conv2d(160, 128, kernel_size=(1, 1), stride=(1, 1), bias=False)\n        (norm2): BatchNorm2d(128, eps=1e-05, momentum=0.1, affine=True, track_running_stats=True)\n        (relu2): ReLU(inplace=True)\n        (conv2): Conv2d(128, 32, kernel_size=(3, 3), stride=(1, 1), padding=(1, 1), bias=False)\n      )\n      (denselayer3): _DenseLayer(\n        (norm1): BatchNorm2d(192, eps=1e-05, momentum=0.1, affine=True, track_running_stats=True)\n        (relu1): ReLU(inplace=True)\n        (conv1): Conv2d(192, 128, kernel_size=(1, 1), stride=(1, 1), bias=False)\n        (norm2): BatchNorm2d(128, eps=1e-05, momentum=0.1, affine=True, track_running_stats=True)\n        (relu2): ReLU(inplace=True)\n        (conv2): Conv2d(128, 32, kernel_size=(3, 3), stride=(1, 1), padding=(1, 1), bias=False)\n      )\n      (denselayer4): _DenseLayer(\n        (norm1): BatchNorm2d(224, eps=1e-05, momentum=0.1, affine=True, track_running_stats=True)\n        (relu1): ReLU(inplace=True)\n        (conv1): Conv2d(224, 128, kernel_size=(1, 1), stride=(1, 1), bias=False)\n        (norm2): BatchNorm2d(128, eps=1e-05, momentum=0.1, affine=True, track_running_stats=True)\n        (relu2): ReLU(inplace=True)\n        (conv2): Conv2d(128, 32, kernel_size=(3, 3), stride=(1, 1), padding=(1, 1), bias=False)\n      )\n      (denselayer5): _DenseLayer(\n        (norm1): BatchNorm2d(256, eps=1e-05, momentum=0.1, affine=True, track_running_stats=True)\n        (relu1): ReLU(inplace=True)\n        (conv1): Conv2d(256, 128, kernel_size=(1, 1), stride=(1, 1), bias=False)\n        (norm2): BatchNorm2d(128, eps=1e-05, momentum=0.1, affine=True, track_running_stats=True)\n        (relu2): ReLU(inplace=True)\n        (conv2): Conv2d(128, 32, kernel_size=(3, 3), stride=(1, 1), padding=(1, 1), bias=False)\n      )\n      (denselayer6): _DenseLayer(\n        (norm1): BatchNorm2d(288, eps=1e-05, momentum=0.1, affine=True, track_running_stats=True)\n        (relu1): ReLU(inplace=True)\n        (conv1): Conv2d(288, 128, kernel_size=(1, 1), stride=(1, 1), bias=False)\n        (norm2): BatchNorm2d(128, eps=1e-05, momentum=0.1, affine=True, track_running_stats=True)\n        (relu2): ReLU(inplace=True)\n        (conv2): Conv2d(128, 32, kernel_size=(3, 3), stride=(1, 1), padding=(1, 1), bias=False)\n      )\n      (denselayer7): _DenseLayer(\n        (norm1): BatchNorm2d(320, eps=1e-05, momentum=0.1, affine=True, track_running_stats=True)\n        (relu1): ReLU(inplace=True)\n        (conv1): Conv2d(320, 128, kernel_size=(1, 1), stride=(1, 1), bias=False)\n        (norm2): BatchNorm2d(128, eps=1e-05, momentum=0.1, affine=True, track_running_stats=True)\n        (relu2): ReLU(inplace=True)\n        (conv2): Conv2d(128, 32, kernel_size=(3, 3), stride=(1, 1), padding=(1, 1), bias=False)\n      )\n      (denselayer8): _DenseLayer(\n        (norm1): BatchNorm2d(352, eps=1e-05, momentum=0.1, affine=True, track_running_stats=True)\n        (relu1): ReLU(inplace=True)\n        (conv1): Conv2d(352, 128, kernel_size=(1, 1), stride=(1, 1), bias=False)\n        (norm2): BatchNorm2d(128, eps=1e-05, momentum=0.1, affine=True, track_running_stats=True)\n        (relu2): ReLU(inplace=True)\n        (conv2): Conv2d(128, 32, kernel_size=(3, 3), stride=(1, 1), padding=(1, 1), bias=False)\n      )\n      (denselayer9): _DenseLayer(\n        (norm1): BatchNorm2d(384, eps=1e-05, momentum=0.1, affine=True, track_running_stats=True)\n        (relu1): ReLU(inplace=True)\n        (conv1): Conv2d(384, 128, kernel_size=(1, 1), stride=(1, 1), bias=False)\n        (norm2): BatchNorm2d(128, eps=1e-05, momentum=0.1, affine=True, track_running_stats=True)\n        (relu2): ReLU(inplace=True)\n        (conv2): Conv2d(128, 32, kernel_size=(3, 3), stride=(1, 1), padding=(1, 1), bias=False)\n      )\n      (denselayer10): _DenseLayer(\n        (norm1): BatchNorm2d(416, eps=1e-05, momentum=0.1, affine=True, track_running_stats=True)\n        (relu1): ReLU(inplace=True)\n        (conv1): Conv2d(416, 128, kernel_size=(1, 1), stride=(1, 1), bias=False)\n        (norm2): BatchNorm2d(128, eps=1e-05, momentum=0.1, affine=True, track_running_stats=True)\n        (relu2): ReLU(inplace=True)\n        (conv2): Conv2d(128, 32, kernel_size=(3, 3), stride=(1, 1), padding=(1, 1), bias=False)\n      )\n      (denselayer11): _DenseLayer(\n        (norm1): BatchNorm2d(448, eps=1e-05, momentum=0.1, affine=True, track_running_stats=True)\n        (relu1): ReLU(inplace=True)\n        (conv1): Conv2d(448, 128, kernel_size=(1, 1), stride=(1, 1), bias=False)\n        (norm2): BatchNorm2d(128, eps=1e-05, momentum=0.1, affine=True, track_running_stats=True)\n        (relu2): ReLU(inplace=True)\n        (conv2): Conv2d(128, 32, kernel_size=(3, 3), stride=(1, 1), padding=(1, 1), bias=False)\n      )\n      (denselayer12): _DenseLayer(\n        (norm1): BatchNorm2d(480, eps=1e-05, momentum=0.1, affine=True, track_running_stats=True)\n        (relu1): ReLU(inplace=True)\n        (conv1): Conv2d(480, 128, kernel_size=(1, 1), stride=(1, 1), bias=False)\n        (norm2): BatchNorm2d(128, eps=1e-05, momentum=0.1, affine=True, track_running_stats=True)\n        (relu2): ReLU(inplace=True)\n        (conv2): Conv2d(128, 32, kernel_size=(3, 3), stride=(1, 1), padding=(1, 1), bias=False)\n      )\n    )\n    (transition2): _Transition(\n      (norm): BatchNorm2d(512, eps=1e-05, momentum=0.1, affine=True, track_running_stats=True)\n      (relu): ReLU(inplace=True)\n      (conv): Conv2d(512, 256, kernel_size=(1, 1), stride=(1, 1), bias=False)\n      (pool): AvgPool2d(kernel_size=2, stride=2, padding=0)\n    )\n    (denseblock3): _DenseBlock(\n      (denselayer1): _DenseLayer(\n        (norm1): BatchNorm2d(256, eps=1e-05, momentum=0.1, affine=True, track_running_stats=True)\n        (relu1): ReLU(inplace=True)\n        (conv1): Conv2d(256, 128, kernel_size=(1, 1), stride=(1, 1), bias=False)\n        (norm2): BatchNorm2d(128, eps=1e-05, momentum=0.1, affine=True, track_running_stats=True)\n        (relu2): ReLU(inplace=True)\n        (conv2): Conv2d(128, 32, kernel_size=(3, 3), stride=(1, 1), padding=(1, 1), bias=False)\n      )\n      (denselayer2): _DenseLayer(\n        (norm1): BatchNorm2d(288, eps=1e-05, momentum=0.1, affine=True, track_running_stats=True)\n        (relu1): ReLU(inplace=True)\n        (conv1): Conv2d(288, 128, kernel_size=(1, 1), stride=(1, 1), bias=False)\n        (norm2): BatchNorm2d(128, eps=1e-05, momentum=0.1, affine=True, track_running_stats=True)\n        (relu2): ReLU(inplace=True)\n        (conv2): Conv2d(128, 32, kernel_size=(3, 3), stride=(1, 1), padding=(1, 1), bias=False)\n      )\n      (denselayer3): _DenseLayer(\n        (norm1): BatchNorm2d(320, eps=1e-05, momentum=0.1, affine=True, track_running_stats=True)\n        (relu1): ReLU(inplace=True)\n        (conv1): Conv2d(320, 128, kernel_size=(1, 1), stride=(1, 1), bias=False)\n        (norm2): BatchNorm2d(128, eps=1e-05, momentum=0.1, affine=True, track_running_stats=True)\n        (relu2): ReLU(inplace=True)\n        (conv2): Conv2d(128, 32, kernel_size=(3, 3), stride=(1, 1), padding=(1, 1), bias=False)\n      )\n      (denselayer4): _DenseLayer(\n        (norm1): BatchNorm2d(352, eps=1e-05, momentum=0.1, affine=True, track_running_stats=True)\n        (relu1): ReLU(inplace=True)\n        (conv1): Conv2d(352, 128, kernel_size=(1, 1), stride=(1, 1), bias=False)\n        (norm2): BatchNorm2d(128, eps=1e-05, momentum=0.1, affine=True, track_running_stats=True)\n        (relu2): ReLU(inplace=True)\n        (conv2): Conv2d(128, 32, kernel_size=(3, 3), stride=(1, 1), padding=(1, 1), bias=False)\n      )\n      (denselayer5): _DenseLayer(\n        (norm1): BatchNorm2d(384, eps=1e-05, momentum=0.1, affine=True, track_running_stats=True)\n        (relu1): ReLU(inplace=True)\n        (conv1): Conv2d(384, 128, kernel_size=(1, 1), stride=(1, 1), bias=False)\n        (norm2): BatchNorm2d(128, eps=1e-05, momentum=0.1, affine=True, track_running_stats=True)\n        (relu2): ReLU(inplace=True)\n        (conv2): Conv2d(128, 32, kernel_size=(3, 3), stride=(1, 1), padding=(1, 1), bias=False)\n      )\n      (denselayer6): _DenseLayer(\n        (norm1): BatchNorm2d(416, eps=1e-05, momentum=0.1, affine=True, track_running_stats=True)\n        (relu1): ReLU(inplace=True)\n        (conv1): Conv2d(416, 128, kernel_size=(1, 1), stride=(1, 1), bias=False)\n        (norm2): BatchNorm2d(128, eps=1e-05, momentum=0.1, affine=True, track_running_stats=True)\n        (relu2): ReLU(inplace=True)\n        (conv2): Conv2d(128, 32, kernel_size=(3, 3), stride=(1, 1), padding=(1, 1), bias=False)\n      )\n      (denselayer7): _DenseLayer(\n        (norm1): BatchNorm2d(448, eps=1e-05, momentum=0.1, affine=True, track_running_stats=True)\n        (relu1): ReLU(inplace=True)\n        (conv1): Conv2d(448, 128, kernel_size=(1, 1), stride=(1, 1), bias=False)\n        (norm2): BatchNorm2d(128, eps=1e-05, momentum=0.1, affine=True, track_running_stats=True)\n        (relu2): ReLU(inplace=True)\n        (conv2): Conv2d(128, 32, kernel_size=(3, 3), stride=(1, 1), padding=(1, 1), bias=False)\n      )\n      (denselayer8): _DenseLayer(\n        (norm1): BatchNorm2d(480, eps=1e-05, momentum=0.1, affine=True, track_running_stats=True)\n        (relu1): ReLU(inplace=True)\n        (conv1): Conv2d(480, 128, kernel_size=(1, 1), stride=(1, 1), bias=False)\n        (norm2): BatchNorm2d(128, eps=1e-05, momentum=0.1, affine=True, track_running_stats=True)\n        (relu2): ReLU(inplace=True)\n        (conv2): Conv2d(128, 32, kernel_size=(3, 3), stride=(1, 1), padding=(1, 1), bias=False)\n      )\n      (denselayer9): _DenseLayer(\n        (norm1): BatchNorm2d(512, eps=1e-05, momentum=0.1, affine=True, track_running_stats=True)\n        (relu1): ReLU(inplace=True)\n        (conv1): Conv2d(512, 128, kernel_size=(1, 1), stride=(1, 1), bias=False)\n        (norm2): BatchNorm2d(128, eps=1e-05, momentum=0.1, affine=True, track_running_stats=True)\n        (relu2): ReLU(inplace=True)\n        (conv2): Conv2d(128, 32, kernel_size=(3, 3), stride=(1, 1), padding=(1, 1), bias=False)\n      )\n      (denselayer10): _DenseLayer(\n        (norm1): BatchNorm2d(544, eps=1e-05, momentum=0.1, affine=True, track_running_stats=True)\n        (relu1): ReLU(inplace=True)\n        (conv1): Conv2d(544, 128, kernel_size=(1, 1), stride=(1, 1), bias=False)\n        (norm2): BatchNorm2d(128, eps=1e-05, momentum=0.1, affine=True, track_running_stats=True)\n        (relu2): ReLU(inplace=True)\n        (conv2): Conv2d(128, 32, kernel_size=(3, 3), stride=(1, 1), padding=(1, 1), bias=False)\n      )\n      (denselayer11): _DenseLayer(\n        (norm1): BatchNorm2d(576, eps=1e-05, momentum=0.1, affine=True, track_running_stats=True)\n        (relu1): ReLU(inplace=True)\n        (conv1): Conv2d(576, 128, kernel_size=(1, 1), stride=(1, 1), bias=False)\n        (norm2): BatchNorm2d(128, eps=1e-05, momentum=0.1, affine=True, track_running_stats=True)\n        (relu2): ReLU(inplace=True)\n        (conv2): Conv2d(128, 32, kernel_size=(3, 3), stride=(1, 1), padding=(1, 1), bias=False)\n      )\n      (denselayer12): _DenseLayer(\n        (norm1): BatchNorm2d(608, eps=1e-05, momentum=0.1, affine=True, track_running_stats=True)\n        (relu1): ReLU(inplace=True)\n        (conv1): Conv2d(608, 128, kernel_size=(1, 1), stride=(1, 1), bias=False)\n        (norm2): BatchNorm2d(128, eps=1e-05, momentum=0.1, affine=True, track_running_stats=True)\n        (relu2): ReLU(inplace=True)\n        (conv2): Conv2d(128, 32, kernel_size=(3, 3), stride=(1, 1), padding=(1, 1), bias=False)\n      )\n      (denselayer13): _DenseLayer(\n        (norm1): BatchNorm2d(640, eps=1e-05, momentum=0.1, affine=True, track_running_stats=True)\n        (relu1): ReLU(inplace=True)\n        (conv1): Conv2d(640, 128, kernel_size=(1, 1), stride=(1, 1), bias=False)\n        (norm2): BatchNorm2d(128, eps=1e-05, momentum=0.1, affine=True, track_running_stats=True)\n        (relu2): ReLU(inplace=True)\n        (conv2): Conv2d(128, 32, kernel_size=(3, 3), stride=(1, 1), padding=(1, 1), bias=False)\n      )\n      (denselayer14): _DenseLayer(\n        (norm1): BatchNorm2d(672, eps=1e-05, momentum=0.1, affine=True, track_running_stats=True)\n        (relu1): ReLU(inplace=True)\n        (conv1): Conv2d(672, 128, kernel_size=(1, 1), stride=(1, 1), bias=False)\n        (norm2): BatchNorm2d(128, eps=1e-05, momentum=0.1, affine=True, track_running_stats=True)\n        (relu2): ReLU(inplace=True)\n        (conv2): Conv2d(128, 32, kernel_size=(3, 3), stride=(1, 1), padding=(1, 1), bias=False)\n      )\n      (denselayer15): _DenseLayer(\n        (norm1): BatchNorm2d(704, eps=1e-05, momentum=0.1, affine=True, track_running_stats=True)\n        (relu1): ReLU(inplace=True)\n        (conv1): Conv2d(704, 128, kernel_size=(1, 1), stride=(1, 1), bias=False)\n        (norm2): BatchNorm2d(128, eps=1e-05, momentum=0.1, affine=True, track_running_stats=True)\n        (relu2): ReLU(inplace=True)\n        (conv2): Conv2d(128, 32, kernel_size=(3, 3), stride=(1, 1), padding=(1, 1), bias=False)\n      )\n      (denselayer16): _DenseLayer(\n        (norm1): BatchNorm2d(736, eps=1e-05, momentum=0.1, affine=True, track_running_stats=True)\n        (relu1): ReLU(inplace=True)\n        (conv1): Conv2d(736, 128, kernel_size=(1, 1), stride=(1, 1), bias=False)\n        (norm2): BatchNorm2d(128, eps=1e-05, momentum=0.1, affine=True, track_running_stats=True)\n        (relu2): ReLU(inplace=True)\n        (conv2): Conv2d(128, 32, kernel_size=(3, 3), stride=(1, 1), padding=(1, 1), bias=False)\n      )\n      (denselayer17): _DenseLayer(\n        (norm1): BatchNorm2d(768, eps=1e-05, momentum=0.1, affine=True, track_running_stats=True)\n        (relu1): ReLU(inplace=True)\n        (conv1): Conv2d(768, 128, kernel_size=(1, 1), stride=(1, 1), bias=False)\n        (norm2): BatchNorm2d(128, eps=1e-05, momentum=0.1, affine=True, track_running_stats=True)\n        (relu2): ReLU(inplace=True)\n        (conv2): Conv2d(128, 32, kernel_size=(3, 3), stride=(1, 1), padding=(1, 1), bias=False)\n      )\n      (denselayer18): _DenseLayer(\n        (norm1): BatchNorm2d(800, eps=1e-05, momentum=0.1, affine=True, track_running_stats=True)\n        (relu1): ReLU(inplace=True)\n        (conv1): Conv2d(800, 128, kernel_size=(1, 1), stride=(1, 1), bias=False)\n        (norm2): BatchNorm2d(128, eps=1e-05, momentum=0.1, affine=True, track_running_stats=True)\n        (relu2): ReLU(inplace=True)\n        (conv2): Conv2d(128, 32, kernel_size=(3, 3), stride=(1, 1), padding=(1, 1), bias=False)\n      )\n      (denselayer19): _DenseLayer(\n        (norm1): BatchNorm2d(832, eps=1e-05, momentum=0.1, affine=True, track_running_stats=True)\n        (relu1): ReLU(inplace=True)\n        (conv1): Conv2d(832, 128, kernel_size=(1, 1), stride=(1, 1), bias=False)\n        (norm2): BatchNorm2d(128, eps=1e-05, momentum=0.1, affine=True, track_running_stats=True)\n        (relu2): ReLU(inplace=True)\n        (conv2): Conv2d(128, 32, kernel_size=(3, 3), stride=(1, 1), padding=(1, 1), bias=False)\n      )\n      (denselayer20): _DenseLayer(\n        (norm1): BatchNorm2d(864, eps=1e-05, momentum=0.1, affine=True, track_running_stats=True)\n        (relu1): ReLU(inplace=True)\n        (conv1): Conv2d(864, 128, kernel_size=(1, 1), stride=(1, 1), bias=False)\n        (norm2): BatchNorm2d(128, eps=1e-05, momentum=0.1, affine=True, track_running_stats=True)\n        (relu2): ReLU(inplace=True)\n        (conv2): Conv2d(128, 32, kernel_size=(3, 3), stride=(1, 1), padding=(1, 1), bias=False)\n      )\n      (denselayer21): _DenseLayer(\n        (norm1): BatchNorm2d(896, eps=1e-05, momentum=0.1, affine=True, track_running_stats=True)\n        (relu1): ReLU(inplace=True)\n        (conv1): Conv2d(896, 128, kernel_size=(1, 1), stride=(1, 1), bias=False)\n        (norm2): BatchNorm2d(128, eps=1e-05, momentum=0.1, affine=True, track_running_stats=True)\n        (relu2): ReLU(inplace=True)\n        (conv2): Conv2d(128, 32, kernel_size=(3, 3), stride=(1, 1), padding=(1, 1), bias=False)\n      )\n      (denselayer22): _DenseLayer(\n        (norm1): BatchNorm2d(928, eps=1e-05, momentum=0.1, affine=True, track_running_stats=True)\n        (relu1): ReLU(inplace=True)\n        (conv1): Conv2d(928, 128, kernel_size=(1, 1), stride=(1, 1), bias=False)\n        (norm2): BatchNorm2d(128, eps=1e-05, momentum=0.1, affine=True, track_running_stats=True)\n        (relu2): ReLU(inplace=True)\n        (conv2): Conv2d(128, 32, kernel_size=(3, 3), stride=(1, 1), padding=(1, 1), bias=False)\n      )\n      (denselayer23): _DenseLayer(\n        (norm1): BatchNorm2d(960, eps=1e-05, momentum=0.1, affine=True, track_running_stats=True)\n        (relu1): ReLU(inplace=True)\n        (conv1): Conv2d(960, 128, kernel_size=(1, 1), stride=(1, 1), bias=False)\n        (norm2): BatchNorm2d(128, eps=1e-05, momentum=0.1, affine=True, track_running_stats=True)\n        (relu2): ReLU(inplace=True)\n        (conv2): Conv2d(128, 32, kernel_size=(3, 3), stride=(1, 1), padding=(1, 1), bias=False)\n      )\n      (denselayer24): _DenseLayer(\n        (norm1): BatchNorm2d(992, eps=1e-05, momentum=0.1, affine=True, track_running_stats=True)\n        (relu1): ReLU(inplace=True)\n        (conv1): Conv2d(992, 128, kernel_size=(1, 1), stride=(1, 1), bias=False)\n        (norm2): BatchNorm2d(128, eps=1e-05, momentum=0.1, affine=True, track_running_stats=True)\n        (relu2): ReLU(inplace=True)\n        (conv2): Conv2d(128, 32, kernel_size=(3, 3), stride=(1, 1), padding=(1, 1), bias=False)\n      )\n    )\n    (transition3): _Transition(\n      (norm): BatchNorm2d(1024, eps=1e-05, momentum=0.1, affine=True, track_running_stats=True)\n      (relu): ReLU(inplace=True)\n      (conv): Conv2d(1024, 512, kernel_size=(1, 1), stride=(1, 1), bias=False)\n      (pool): AvgPool2d(kernel_size=2, stride=2, padding=0)\n    )\n    (denseblock4): _DenseBlock(\n      (denselayer1): _DenseLayer(\n        (norm1): BatchNorm2d(512, eps=1e-05, momentum=0.1, affine=True, track_running_stats=True)\n        (relu1): ReLU(inplace=True)\n        (conv1): Conv2d(512, 128, kernel_size=(1, 1), stride=(1, 1), bias=False)\n        (norm2): BatchNorm2d(128, eps=1e-05, momentum=0.1, affine=True, track_running_stats=True)\n        (relu2): ReLU(inplace=True)\n        (conv2): Conv2d(128, 32, kernel_size=(3, 3), stride=(1, 1), padding=(1, 1), bias=False)\n      )\n      (denselayer2): _DenseLayer(\n        (norm1): BatchNorm2d(544, eps=1e-05, momentum=0.1, affine=True, track_running_stats=True)\n        (relu1): ReLU(inplace=True)\n        (conv1): Conv2d(544, 128, kernel_size=(1, 1), stride=(1, 1), bias=False)\n        (norm2): BatchNorm2d(128, eps=1e-05, momentum=0.1, affine=True, track_running_stats=True)\n        (relu2): ReLU(inplace=True)\n        (conv2): Conv2d(128, 32, kernel_size=(3, 3), stride=(1, 1), padding=(1, 1), bias=False)\n      )\n      (denselayer3): _DenseLayer(\n        (norm1): BatchNorm2d(576, eps=1e-05, momentum=0.1, affine=True, track_running_stats=True)\n        (relu1): ReLU(inplace=True)\n        (conv1): Conv2d(576, 128, kernel_size=(1, 1), stride=(1, 1), bias=False)\n        (norm2): BatchNorm2d(128, eps=1e-05, momentum=0.1, affine=True, track_running_stats=True)\n        (relu2): ReLU(inplace=True)\n        (conv2): Conv2d(128, 32, kernel_size=(3, 3), stride=(1, 1), padding=(1, 1), bias=False)\n      )\n      (denselayer4): _DenseLayer(\n        (norm1): BatchNorm2d(608, eps=1e-05, momentum=0.1, affine=True, track_running_stats=True)\n        (relu1): ReLU(inplace=True)\n        (conv1): Conv2d(608, 128, kernel_size=(1, 1), stride=(1, 1), bias=False)\n        (norm2): BatchNorm2d(128, eps=1e-05, momentum=0.1, affine=True, track_running_stats=True)\n        (relu2): ReLU(inplace=True)\n        (conv2): Conv2d(128, 32, kernel_size=(3, 3), stride=(1, 1), padding=(1, 1), bias=False)\n      )\n      (denselayer5): _DenseLayer(\n        (norm1): BatchNorm2d(640, eps=1e-05, momentum=0.1, affine=True, track_running_stats=True)\n        (relu1): ReLU(inplace=True)\n        (conv1): Conv2d(640, 128, kernel_size=(1, 1), stride=(1, 1), bias=False)\n        (norm2): BatchNorm2d(128, eps=1e-05, momentum=0.1, affine=True, track_running_stats=True)\n        (relu2): ReLU(inplace=True)\n        (conv2): Conv2d(128, 32, kernel_size=(3, 3), stride=(1, 1), padding=(1, 1), bias=False)\n      )\n      (denselayer6): _DenseLayer(\n        (norm1): BatchNorm2d(672, eps=1e-05, momentum=0.1, affine=True, track_running_stats=True)\n        (relu1): ReLU(inplace=True)\n        (conv1): Conv2d(672, 128, kernel_size=(1, 1), stride=(1, 1), bias=False)\n        (norm2): BatchNorm2d(128, eps=1e-05, momentum=0.1, affine=True, track_running_stats=True)\n        (relu2): ReLU(inplace=True)\n        (conv2): Conv2d(128, 32, kernel_size=(3, 3), stride=(1, 1), padding=(1, 1), bias=False)\n      )\n      (denselayer7): _DenseLayer(\n        (norm1): BatchNorm2d(704, eps=1e-05, momentum=0.1, affine=True, track_running_stats=True)\n        (relu1): ReLU(inplace=True)\n        (conv1): Conv2d(704, 128, kernel_size=(1, 1), stride=(1, 1), bias=False)\n        (norm2): BatchNorm2d(128, eps=1e-05, momentum=0.1, affine=True, track_running_stats=True)\n        (relu2): ReLU(inplace=True)\n        (conv2): Conv2d(128, 32, kernel_size=(3, 3), stride=(1, 1), padding=(1, 1), bias=False)\n      )\n      (denselayer8): _DenseLayer(\n        (norm1): BatchNorm2d(736, eps=1e-05, momentum=0.1, affine=True, track_running_stats=True)\n        (relu1): ReLU(inplace=True)\n        (conv1): Conv2d(736, 128, kernel_size=(1, 1), stride=(1, 1), bias=False)\n        (norm2): BatchNorm2d(128, eps=1e-05, momentum=0.1, affine=True, track_running_stats=True)\n        (relu2): ReLU(inplace=True)\n        (conv2): Conv2d(128, 32, kernel_size=(3, 3), stride=(1, 1), padding=(1, 1), bias=False)\n      )\n      (denselayer9): _DenseLayer(\n        (norm1): BatchNorm2d(768, eps=1e-05, momentum=0.1, affine=True, track_running_stats=True)\n        (relu1): ReLU(inplace=True)\n        (conv1): Conv2d(768, 128, kernel_size=(1, 1), stride=(1, 1), bias=False)\n        (norm2): BatchNorm2d(128, eps=1e-05, momentum=0.1, affine=True, track_running_stats=True)\n        (relu2): ReLU(inplace=True)\n        (conv2): Conv2d(128, 32, kernel_size=(3, 3), stride=(1, 1), padding=(1, 1), bias=False)\n      )\n      (denselayer10): _DenseLayer(\n        (norm1): BatchNorm2d(800, eps=1e-05, momentum=0.1, affine=True, track_running_stats=True)\n        (relu1): ReLU(inplace=True)\n        (conv1): Conv2d(800, 128, kernel_size=(1, 1), stride=(1, 1), bias=False)\n        (norm2): BatchNorm2d(128, eps=1e-05, momentum=0.1, affine=True, track_running_stats=True)\n        (relu2): ReLU(inplace=True)\n        (conv2): Conv2d(128, 32, kernel_size=(3, 3), stride=(1, 1), padding=(1, 1), bias=False)\n      )\n      (denselayer11): _DenseLayer(\n        (norm1): BatchNorm2d(832, eps=1e-05, momentum=0.1, affine=True, track_running_stats=True)\n        (relu1): ReLU(inplace=True)\n        (conv1): Conv2d(832, 128, kernel_size=(1, 1), stride=(1, 1), bias=False)\n        (norm2): BatchNorm2d(128, eps=1e-05, momentum=0.1, affine=True, track_running_stats=True)\n        (relu2): ReLU(inplace=True)\n        (conv2): Conv2d(128, 32, kernel_size=(3, 3), stride=(1, 1), padding=(1, 1), bias=False)\n      )\n      (denselayer12): _DenseLayer(\n        (norm1): BatchNorm2d(864, eps=1e-05, momentum=0.1, affine=True, track_running_stats=True)\n        (relu1): ReLU(inplace=True)\n        (conv1): Conv2d(864, 128, kernel_size=(1, 1), stride=(1, 1), bias=False)\n        (norm2): BatchNorm2d(128, eps=1e-05, momentum=0.1, affine=True, track_running_stats=True)\n        (relu2): ReLU(inplace=True)\n        (conv2): Conv2d(128, 32, kernel_size=(3, 3), stride=(1, 1), padding=(1, 1), bias=False)\n      )\n      (denselayer13): _DenseLayer(\n        (norm1): BatchNorm2d(896, eps=1e-05, momentum=0.1, affine=True, track_running_stats=True)\n        (relu1): ReLU(inplace=True)\n        (conv1): Conv2d(896, 128, kernel_size=(1, 1), stride=(1, 1), bias=False)\n        (norm2): BatchNorm2d(128, eps=1e-05, momentum=0.1, affine=True, track_running_stats=True)\n        (relu2): ReLU(inplace=True)\n        (conv2): Conv2d(128, 32, kernel_size=(3, 3), stride=(1, 1), padding=(1, 1), bias=False)\n      )\n      (denselayer14): _DenseLayer(\n        (norm1): BatchNorm2d(928, eps=1e-05, momentum=0.1, affine=True, track_running_stats=True)\n        (relu1): ReLU(inplace=True)\n        (conv1): Conv2d(928, 128, kernel_size=(1, 1), stride=(1, 1), bias=False)\n        (norm2): BatchNorm2d(128, eps=1e-05, momentum=0.1, affine=True, track_running_stats=True)\n        (relu2): ReLU(inplace=True)\n        (conv2): Conv2d(128, 32, kernel_size=(3, 3), stride=(1, 1), padding=(1, 1), bias=False)\n      )\n      (denselayer15): _DenseLayer(\n        (norm1): BatchNorm2d(960, eps=1e-05, momentum=0.1, affine=True, track_running_stats=True)\n        (relu1): ReLU(inplace=True)\n        (conv1): Conv2d(960, 128, kernel_size=(1, 1), stride=(1, 1), bias=False)\n        (norm2): BatchNorm2d(128, eps=1e-05, momentum=0.1, affine=True, track_running_stats=True)\n        (relu2): ReLU(inplace=True)\n        (conv2): Conv2d(128, 32, kernel_size=(3, 3), stride=(1, 1), padding=(1, 1), bias=False)\n      )\n      (denselayer16): _DenseLayer(\n        (norm1): BatchNorm2d(992, eps=1e-05, momentum=0.1, affine=True, track_running_stats=True)\n        (relu1): ReLU(inplace=True)\n        (conv1): Conv2d(992, 128, kernel_size=(1, 1), stride=(1, 1), bias=False)\n        (norm2): BatchNorm2d(128, eps=1e-05, momentum=0.1, affine=True, track_running_stats=True)\n        (relu2): ReLU(inplace=True)\n        (conv2): Conv2d(128, 32, kernel_size=(3, 3), stride=(1, 1), padding=(1, 1), bias=False)\n      )\n    )\n    (norm5): BatchNorm2d(1024, eps=1e-05, momentum=0.1, affine=True, track_running_stats=True)\n  )\n  (classifier): Sequential(\n    (0): Linear(in_features=1024, out_features=256, bias=True)\n    (1): ReLU()\n    (2): Dropout(p=0.3, inplace=False)\n    (3): Linear(in_features=256, out_features=128, bias=True)\n    (4): ReLU()\n    (5): Linear(in_features=128, out_features=64, bias=True)\n    (6): ReLU()\n    (7): Linear(in_features=64, out_features=5, bias=True)\n  )\n)"
     },
     "execution_count": 7,
     "metadata": {},
     "output_type": "execute_result"
    }
   ],
   "source": [
    "from torchvision.models import DenseNet121_Weights\n",
    "\n",
    "def densenet121_extended_model():\n",
    "    model = models.densenet121(weights=DenseNet121_Weights.DEFAULT)\n",
    "    model.classifier = nn.Sequential(\n",
    "        nn.Linear(model.classifier.in_features, 256),\n",
    "        nn.ReLU(),\n",
    "        nn.Dropout(0.3),\n",
    "        nn.Linear(256, 128),\n",
    "        nn.ReLU(),\n",
    "        nn.Linear(128, 64),\n",
    "        nn.ReLU(),\n",
    "        nn.Linear(64, num_classes)\n",
    "    )\n",
    "    return model\n",
    "\n",
    "# Instantiate the model and move to device\n",
    "model = densenet121_extended_model()\n",
    "model.to(device)"
   ],
   "metadata": {
    "collapsed": false,
    "ExecuteTime": {
     "end_time": "2024-06-25T05:35:49.817069700Z",
     "start_time": "2024-06-25T05:35:49.690367100Z"
    }
   },
   "id": "c173f759ae19c44c"
  },
  {
   "cell_type": "markdown",
   "source": [
    "In our final runs we used pretty much the same loss function, optimizer and learning rate scheduler for all models. We used the CrossEntropyLoss as loss function, the AdamW optimizer and a learning rate scheduler to reduce the learning rate if the validation loss does not improve for a certain amount of epochs. We also experimented with different learning rates and optimizers but ended up with the following configuration as it gave us the best results in terms of validation accuracy scores and Kaggle F1-Score:"
   ],
   "metadata": {
    "collapsed": false
   },
   "id": "9c6f18892dcc47b9"
  },
  {
   "cell_type": "code",
   "execution_count": 6,
   "outputs": [
    {
     "ename": "NameError",
     "evalue": "name 'model' is not defined",
     "output_type": "error",
     "traceback": [
      "\u001B[1;31m---------------------------------------------------------------------------\u001B[0m",
      "\u001B[1;31mNameError\u001B[0m                                 Traceback (most recent call last)",
      "Cell \u001B[1;32mIn[6], line 4\u001B[0m\n\u001B[0;32m      1\u001B[0m \u001B[38;5;28;01mfrom\u001B[39;00m \u001B[38;5;21;01mtorch\u001B[39;00m\u001B[38;5;21;01m.\u001B[39;00m\u001B[38;5;21;01moptim\u001B[39;00m\u001B[38;5;21;01m.\u001B[39;00m\u001B[38;5;21;01mlr_scheduler\u001B[39;00m \u001B[38;5;28;01mimport\u001B[39;00m ReduceLROnPlateau\n\u001B[0;32m      3\u001B[0m criterion \u001B[38;5;241m=\u001B[39m nn\u001B[38;5;241m.\u001B[39mCrossEntropyLoss()\n\u001B[1;32m----> 4\u001B[0m optimizer \u001B[38;5;241m=\u001B[39m AdamW(\u001B[43mmodel\u001B[49m\u001B[38;5;241m.\u001B[39mparameters(), lr\u001B[38;5;241m=\u001B[39m\u001B[38;5;241m0.0001\u001B[39m, weight_decay\u001B[38;5;241m=\u001B[39m\u001B[38;5;241m1e-4\u001B[39m)\n\u001B[0;32m      5\u001B[0m scheduler \u001B[38;5;241m=\u001B[39m ReduceLROnPlateau(optimizer, mode\u001B[38;5;241m=\u001B[39m\u001B[38;5;124m'\u001B[39m\u001B[38;5;124mmin\u001B[39m\u001B[38;5;124m'\u001B[39m, factor\u001B[38;5;241m=\u001B[39m\u001B[38;5;241m0.5\u001B[39m, patience\u001B[38;5;241m=\u001B[39m\u001B[38;5;241m3\u001B[39m)\n",
      "\u001B[1;31mNameError\u001B[0m: name 'model' is not defined"
     ]
    }
   ],
   "source": [
    "from torch.optim.lr_scheduler import ReduceLROnPlateau\n",
    "\n",
    "criterion = nn.CrossEntropyLoss()\n",
    "optimizer = AdamW(model.parameters(), lr=0.0001, weight_decay=1e-4)\n",
    "scheduler = ReduceLROnPlateau(optimizer, mode='min', factor=0.5, patience=3)"
   ],
   "metadata": {
    "collapsed": false,
    "ExecuteTime": {
     "end_time": "2024-06-25T11:38:28.938815700Z",
     "start_time": "2024-06-25T11:38:28.395567100Z"
    }
   },
   "id": "993ce45ce43c636b"
  },
  {
   "cell_type": "code",
   "execution_count": 9,
   "outputs": [
    {
     "name": "stdout",
     "output_type": "stream",
     "text": [
      "Epoch 0/24\n",
      "----------\n",
      "train Loss: 1.1688 Acc: 0.5181\n",
      "val Loss: 0.7213 Acc: 0.7223\n",
      "Current learning rate: 0.000100\n",
      "Epoch 1/24\n",
      "----------\n",
      "train Loss: 0.7201 Acc: 0.7325\n",
      "val Loss: 0.5104 Acc: 0.8090\n",
      "Current learning rate: 0.000100\n",
      "Epoch 2/24\n",
      "----------\n",
      "train Loss: 0.5379 Acc: 0.8061\n",
      "val Loss: 0.4951 Acc: 0.8200\n",
      "Current learning rate: 0.000100\n",
      "Epoch 3/24\n",
      "----------\n",
      "train Loss: 0.4079 Acc: 0.8578\n",
      "val Loss: 0.5166 Acc: 0.8101\n",
      "Current learning rate: 0.000100\n",
      "Epoch 4/24\n",
      "----------\n",
      "train Loss: 0.3380 Acc: 0.8820\n",
      "val Loss: 0.4969 Acc: 0.8189\n",
      "Current learning rate: 0.000100\n",
      "Epoch 5/24\n",
      "----------\n",
      "train Loss: 0.2625 Acc: 0.9103\n",
      "val Loss: 0.5987 Acc: 0.8057\n",
      "Current learning rate: 0.000100\n",
      "Epoch 6/24\n",
      "----------\n",
      "train Loss: 0.2288 Acc: 0.9202\n",
      "val Loss: 0.5352 Acc: 0.8189\n",
      "Current learning rate: 0.000050\n",
      "Epoch 7/24\n",
      "----------\n",
      "train Loss: 0.1246 Acc: 0.9599\n",
      "val Loss: 0.4977 Acc: 0.8441\n",
      "Current learning rate: 0.000050\n",
      "Epoch 8/24\n",
      "----------\n",
      "train Loss: 0.0785 Acc: 0.9727\n",
      "val Loss: 0.5246 Acc: 0.8452\n",
      "Current learning rate: 0.000050\n",
      "Epoch 9/24\n",
      "----------\n",
      "train Loss: 0.0727 Acc: 0.9754\n",
      "val Loss: 0.5728 Acc: 0.8430\n",
      "Current learning rate: 0.000050\n",
      "Epoch 10/24\n",
      "----------\n",
      "train Loss: 0.0595 Acc: 0.9804\n",
      "val Loss: 0.6251 Acc: 0.8211\n",
      "Current learning rate: 0.000025\n",
      "Epoch 11/24\n",
      "----------\n",
      "train Loss: 0.0331 Acc: 0.9898\n",
      "val Loss: 0.5802 Acc: 0.8441\n",
      "Current learning rate: 0.000025\n",
      "Epoch 12/24\n",
      "----------\n",
      "train Loss: 0.0203 Acc: 0.9940\n",
      "val Loss: 0.6300 Acc: 0.8408\n",
      "Current learning rate: 0.000025\n",
      "Epoch 13/24\n",
      "----------\n",
      "train Loss: 0.0202 Acc: 0.9940\n",
      "val Loss: 0.5976 Acc: 0.8485\n",
      "Current learning rate: 0.000025\n",
      "Epoch 14/24\n",
      "----------\n",
      "train Loss: 0.0261 Acc: 0.9922\n",
      "val Loss: 0.6808 Acc: 0.8518\n",
      "Current learning rate: 0.000013\n",
      "Epoch 15/24\n",
      "----------\n",
      "train Loss: 0.0147 Acc: 0.9952\n",
      "val Loss: 0.6236 Acc: 0.8496\n",
      "Current learning rate: 0.000013\n",
      "Epoch 16/24\n",
      "----------\n",
      "train Loss: 0.0108 Acc: 0.9973\n",
      "val Loss: 0.6586 Acc: 0.8463\n",
      "Current learning rate: 0.000013\n",
      "Epoch 17/24\n",
      "----------\n",
      "train Loss: 0.0071 Acc: 0.9984\n",
      "val Loss: 0.6910 Acc: 0.8441\n",
      "Current learning rate: 0.000013\n",
      "Epoch 18/24\n",
      "----------\n",
      "train Loss: 0.0081 Acc: 0.9980\n",
      "val Loss: 0.6744 Acc: 0.8485\n",
      "Current learning rate: 0.000006\n",
      "Epoch 19/24\n",
      "----------\n",
      "train Loss: 0.0097 Acc: 0.9976\n",
      "val Loss: 0.6632 Acc: 0.8463\n",
      "Current learning rate: 0.000006\n",
      "Epoch 20/24\n",
      "----------\n",
      "train Loss: 0.0067 Acc: 0.9982\n",
      "val Loss: 0.6907 Acc: 0.8474\n",
      "Current learning rate: 0.000006\n",
      "Epoch 21/24\n",
      "----------\n",
      "train Loss: 0.0056 Acc: 0.9989\n",
      "val Loss: 0.6761 Acc: 0.8441\n",
      "Current learning rate: 0.000006\n",
      "Epoch 22/24\n",
      "----------\n",
      "train Loss: 0.0045 Acc: 0.9985\n",
      "val Loss: 0.7289 Acc: 0.8507\n",
      "Current learning rate: 0.000003\n",
      "Epoch 23/24\n",
      "----------\n",
      "train Loss: 0.0062 Acc: 0.9982\n",
      "val Loss: 0.6888 Acc: 0.8474\n",
      "Current learning rate: 0.000003\n",
      "Epoch 24/24\n",
      "----------\n",
      "train Loss: 0.0055 Acc: 0.9987\n",
      "val Loss: 0.6948 Acc: 0.8474\n",
      "Current learning rate: 0.000003\n",
      "Training complete\n"
     ]
    }
   ],
   "source": [
    "# Training loop\n",
    "num_epochs = 25 \n",
    "train_losses = []\n",
    "val_losses = []\n",
    "\n",
    "for epoch in range(num_epochs):\n",
    "    print(f'Epoch {epoch}/{num_epochs - 1}')\n",
    "    print('-' * 10)\n",
    "\n",
    "    for phase in ['train', 'val']:\n",
    "        if phase == 'train':\n",
    "            model.train()\n",
    "        else:\n",
    "            model.eval()\n",
    "\n",
    "        running_loss = 0.0\n",
    "        running_corrects = 0\n",
    "\n",
    "        for inputs, labels in (train_dl if phase == 'train' else val_dl):\n",
    "            inputs, labels = inputs.to(device), labels.to(device)\n",
    "\n",
    "            optimizer.zero_grad()\n",
    "\n",
    "            with torch.set_grad_enabled(phase == 'train'):\n",
    "                outputs = model(inputs)\n",
    "                _, preds = torch.max(outputs, 1)\n",
    "                loss = criterion(outputs, labels)\n",
    "\n",
    "                if phase == 'train':\n",
    "                    loss.backward()\n",
    "                    optimizer.step()\n",
    "\n",
    "            running_loss += loss.item() * inputs.size(0)\n",
    "            running_corrects += torch.sum(preds == labels.data).item()\n",
    "\n",
    "        epoch_loss = running_loss / len(train_dataset if phase == 'train' else val_dataset)\n",
    "        epoch_acc = running_corrects / len(train_dataset if phase == 'train' else val_dataset)\n",
    "\n",
    "        print(f'{phase} Loss: {epoch_loss:.4f} Acc: {epoch_acc:.4f}')\n",
    "\n",
    "        if phase == 'train':\n",
    "            train_losses.append(epoch_loss)\n",
    "        else:\n",
    "            val_losses.append(epoch_loss)\n",
    "            scheduler.step(epoch_loss)\n",
    "\n",
    "    current_lr = optimizer.param_groups[0]['lr']\n",
    "    print(f'Current learning rate: {current_lr:.6f}')\n",
    "\n",
    "print('Training complete')\n"
   ],
   "metadata": {
    "collapsed": false,
    "ExecuteTime": {
     "end_time": "2024-06-25T09:39:20.387014900Z",
     "start_time": "2024-06-25T05:35:49.831648800Z"
    }
   },
   "id": "9ca48303fa9f168f"
  },
  {
   "cell_type": "code",
   "execution_count": 12,
   "outputs": [],
   "source": [
    "# save model\n",
    "torch.save(model.state_dict(), 'densenet121.pth')"
   ],
   "metadata": {
    "collapsed": false,
    "ExecuteTime": {
     "end_time": "2024-06-25T09:40:12.042351500Z",
     "start_time": "2024-06-25T09:40:11.988727200Z"
    }
   },
   "id": "e96fb78038b64d95"
  },
  {
   "cell_type": "code",
   "execution_count": 13,
   "outputs": [],
   "source": [
    "# Test the model\n",
    "test_dir = 'data/test'\n",
    "test_files = [os.path.join(test_dir, img_file) for img_file in os.listdir(test_dir)]\n",
    "test_dataset = EmotionDataset(test_files, transform=transform_val)\n",
    "test_dl = DataLoader(test_dataset, batch_size=16, shuffle=False)\n",
    "\n",
    "model.eval()\n",
    "results = []\n",
    "\n",
    "for inputs in test_dl:\n",
    "    inputs = inputs.to(device)\n",
    "    with torch.no_grad():\n",
    "        outputs = model(inputs)\n",
    "        _, preds = torch.max(outputs, 1)\n",
    "        preds = preds.cpu().numpy()\n",
    "        results.extend(preds)\n",
    "\n",
    "results_df = pd.DataFrame({'Id': [os.path.basename(file) for file in test_files], 'emotions': [emotions[pred] for pred in results]})\n",
    "results_df.to_csv('predictions_densenet121.csv', index=False)"
   ],
   "metadata": {
    "collapsed": false,
    "ExecuteTime": {
     "end_time": "2024-06-25T09:41:34.716199300Z",
     "start_time": "2024-06-25T09:40:53.543462600Z"
    }
   },
   "id": "381598438b15d6c1"
  },
  {
   "cell_type": "markdown",
   "source": [
    "We achieved a validation accuracy of ~85% with the Densenet121 model and a Kaggle score of 82,5%."
   ],
   "metadata": {
    "collapsed": false
   },
   "id": "4f60b2a82b363f2f"
  },
  {
   "cell_type": "markdown",
   "source": [
    "# SWIN Transformer\n",
    "\n",
    "Next up we tried different Vision Transformer models. After reading some papers and testing around with different models we decided to use the Swin Transformer. The Swin Transformer is a transformer model that is designed to handle images. It is a hierarchical transformer model that divides the image into patches and processes them in a hierarchical way. The Swin Transformer is known for its good performance on image classification tasks. In this model we added a fully connected layer and a dropout layer with the probability of 30%. We initialize a learning rate scheduler to try out different learning rates for our training. For the Swin transformer we had some challenges to prevent overfitting and tried different approaches to optimize the model (increase weights and biases, dropout, data augmentation). We also tried to use different learning rates and optimizers but ended up with the following configuration as it gave us the best results in terms of validation accuracy scores and Kaggle score.\n",
    "\n",
    "We also tried around with different swin models. We finally used the tiny version of the model, as the base and large version of Swin trained for a very very long time (20h+ on our local machine with GPU on a NVIDIA 3080 TI) and did just slightly perform better than the tiny version. The minor improvement in performance was not worth the time we had to invest to train the model."
   ],
   "metadata": {
    "collapsed": false
   },
   "id": "50efd32c568704df"
  },
  {
   "cell_type": "code",
   "execution_count": 7,
   "outputs": [],
   "source": [
    "# Define Swin Transformer model \n",
    "class SwinEmotionModel(nn.Module):\n",
    "    def __init__(self, num_classes):\n",
    "        super(SwinEmotionModel, self).__init__()\n",
    "        # https://pytorch.org/vision/main/models/swin_transformer.html\n",
    "        self.swin = models.swin_v2_t(weights='IMAGENET1K_V1')\n",
    "        self.swin.head = nn.Sequential(\n",
    "            nn.Dropout(0.3),\n",
    "            nn.Linear(self.swin.head.in_features, num_classes)\n",
    "        )\n",
    "\n",
    "    def forward(self, x):\n",
    "        x = self.swin(x)\n",
    "        return x\n",
    "\n",
    "model = SwinEmotionModel(num_classes=num_classes).to(device)"
   ],
   "metadata": {
    "collapsed": false,
    "ExecuteTime": {
     "end_time": "2024-06-25T11:39:05.587730400Z",
     "start_time": "2024-06-25T11:39:05.314557900Z"
    }
   },
   "id": "c598bcc23b95834d"
  },
  {
   "cell_type": "markdown",
   "source": [
    "We also tested to introduce early stopping (stop training after certain epochs if no improvement is made) to prevent overfitting but did not achieve any improvements in the validation accuracy scores."
   ],
   "metadata": {
    "collapsed": false
   },
   "id": "1c38b18b021b5e8c"
  },
  {
   "cell_type": "code",
   "execution_count": 8,
   "outputs": [],
   "source": [
    "# class for early stopping - not used currently\n",
    "class EarlyStopping:\n",
    "    def __init__(self, patience=7, min_delta=0):\n",
    "        self.patience = patience\n",
    "        self.min_delta = min_delta\n",
    "        self.best_loss = None\n",
    "        self.counter = 0\n",
    "        self.early_stop = False\n",
    "\n",
    "    def __call__(self, val_loss):\n",
    "        if self.best_loss is None:\n",
    "            self.best_loss = val_loss\n",
    "        elif val_loss > self.best_loss - self.min_delta:\n",
    "            self.counter += 1\n",
    "            if self.counter >= self.patience:\n",
    "                self.early_stop = True\n",
    "        else:\n",
    "            self.best_loss = val_loss\n",
    "            self.counter = 0"
   ],
   "metadata": {
    "collapsed": false,
    "ExecuteTime": {
     "end_time": "2024-06-25T11:39:07.308207900Z",
     "start_time": "2024-06-25T11:39:07.298850500Z"
    }
   },
   "id": "bc452bcadb0e6af5"
  },
  {
   "cell_type": "code",
   "execution_count": 9,
   "outputs": [],
   "source": [
    "# Define optimizer and learning rate scheduler\n",
    "criterion = nn.CrossEntropyLoss()\n",
    "optimizer = AdamW(model.parameters(), lr=0.0001, weight_decay=1e-4)\n",
    "scheduler = ReduceLROnPlateau(optimizer, mode='min', factor=0.5, patience=3)"
   ],
   "metadata": {
    "collapsed": false,
    "ExecuteTime": {
     "end_time": "2024-06-25T11:39:08.218276400Z",
     "start_time": "2024-06-25T11:39:08.196458300Z"
    }
   },
   "id": "e1ab78e2e7f4bdb7"
  },
  {
   "cell_type": "code",
   "execution_count": 10,
   "outputs": [
    {
     "name": "stdout",
     "output_type": "stream",
     "text": [
      "Epoch 0/24\n",
      "----------\n",
      "train Loss: 1.1633 Acc: 0.5306\n",
      "val Loss: 0.7383 Acc: 0.7025\n",
      "Current learning rate: 0.000100\n",
      "Epoch 1/24\n",
      "----------\n",
      "train Loss: 0.7659 Acc: 0.7107\n",
      "val Loss: 0.6162 Acc: 0.7563\n",
      "Current learning rate: 0.000100\n",
      "Epoch 2/24\n",
      "----------\n",
      "train Loss: 0.5942 Acc: 0.7802\n",
      "val Loss: 0.5564 Acc: 0.7783\n",
      "Current learning rate: 0.000100\n",
      "Epoch 3/24\n",
      "----------\n",
      "train Loss: 0.4753 Acc: 0.8253\n",
      "val Loss: 0.5851 Acc: 0.7827\n",
      "Current learning rate: 0.000100\n",
      "Epoch 4/24\n",
      "----------\n",
      "train Loss: 0.3839 Acc: 0.8625\n",
      "val Loss: 0.6111 Acc: 0.7805\n",
      "Current learning rate: 0.000100\n",
      "Epoch 5/24\n",
      "----------\n",
      "train Loss: 0.3124 Acc: 0.8891\n",
      "val Loss: 0.5840 Acc: 0.7958\n",
      "Current learning rate: 0.000100\n",
      "Epoch 6/24\n",
      "----------\n",
      "train Loss: 0.2619 Acc: 0.9055\n",
      "val Loss: 0.5572 Acc: 0.8101\n",
      "Current learning rate: 0.000050\n",
      "Epoch 7/24\n",
      "----------\n",
      "train Loss: 0.1439 Acc: 0.9511\n",
      "val Loss: 0.5685 Acc: 0.8233\n",
      "Current learning rate: 0.000050\n",
      "Epoch 8/24\n",
      "----------\n",
      "train Loss: 0.1062 Acc: 0.9628\n",
      "val Loss: 0.6128 Acc: 0.8233\n",
      "Current learning rate: 0.000050\n",
      "Epoch 9/24\n",
      "----------\n",
      "train Loss: 0.0880 Acc: 0.9700\n",
      "val Loss: 0.7183 Acc: 0.8310\n",
      "Current learning rate: 0.000050\n",
      "Epoch 10/24\n",
      "----------\n",
      "train Loss: 0.0892 Acc: 0.9686\n",
      "val Loss: 0.6677 Acc: 0.8310\n",
      "Current learning rate: 0.000025\n",
      "Epoch 11/24\n",
      "----------\n",
      "train Loss: 0.0548 Acc: 0.9817\n",
      "val Loss: 0.6324 Acc: 0.8430\n",
      "Current learning rate: 0.000025\n",
      "Epoch 12/24\n",
      "----------\n",
      "train Loss: 0.0364 Acc: 0.9872\n",
      "val Loss: 0.6783 Acc: 0.8342\n",
      "Current learning rate: 0.000025\n",
      "Epoch 13/24\n",
      "----------\n",
      "train Loss: 0.0336 Acc: 0.9882\n",
      "val Loss: 0.6560 Acc: 0.8485\n",
      "Current learning rate: 0.000025\n",
      "Epoch 14/24\n",
      "----------\n",
      "train Loss: 0.0377 Acc: 0.9866\n",
      "val Loss: 0.7312 Acc: 0.8386\n",
      "Current learning rate: 0.000013\n",
      "Epoch 15/24\n",
      "----------\n",
      "train Loss: 0.0257 Acc: 0.9907\n",
      "val Loss: 0.7221 Acc: 0.8474\n",
      "Current learning rate: 0.000013\n",
      "Epoch 16/24\n",
      "----------\n",
      "train Loss: 0.0211 Acc: 0.9927\n",
      "val Loss: 0.7268 Acc: 0.8540\n",
      "Current learning rate: 0.000013\n",
      "Epoch 17/24\n",
      "----------\n",
      "train Loss: 0.0190 Acc: 0.9943\n",
      "val Loss: 0.7590 Acc: 0.8551\n",
      "Current learning rate: 0.000013\n",
      "Epoch 18/24\n",
      "----------\n",
      "train Loss: 0.0163 Acc: 0.9949\n",
      "val Loss: 0.7543 Acc: 0.8584\n",
      "Current learning rate: 0.000006\n",
      "Epoch 19/24\n",
      "----------\n",
      "train Loss: 0.0119 Acc: 0.9962\n",
      "val Loss: 0.7866 Acc: 0.8562\n",
      "Current learning rate: 0.000006\n",
      "Epoch 20/24\n",
      "----------\n",
      "train Loss: 0.0152 Acc: 0.9955\n",
      "val Loss: 0.7663 Acc: 0.8617\n",
      "Current learning rate: 0.000006\n",
      "Epoch 21/24\n",
      "----------\n",
      "train Loss: 0.0149 Acc: 0.9944\n",
      "val Loss: 0.7498 Acc: 0.8584\n",
      "Current learning rate: 0.000006\n",
      "Epoch 22/24\n",
      "----------\n",
      "train Loss: 0.0119 Acc: 0.9971\n",
      "val Loss: 0.7775 Acc: 0.8617\n",
      "Current learning rate: 0.000003\n",
      "Epoch 23/24\n",
      "----------\n",
      "train Loss: 0.0112 Acc: 0.9961\n",
      "val Loss: 0.7799 Acc: 0.8584\n",
      "Current learning rate: 0.000003\n",
      "Epoch 24/24\n",
      "----------\n",
      "train Loss: 0.0157 Acc: 0.9949\n",
      "val Loss: 0.7850 Acc: 0.8540\n",
      "Current learning rate: 0.000003\n",
      "Training complete\n"
     ]
    },
    {
     "data": {
      "text/plain": "<Figure size 1000x500 with 1 Axes>",
      "image/png": "[encoded data removed]"
     },
     "metadata": {},
     "output_type": "display_data"
    }
   ],
   "source": [
    "# Training loop with early stopping\n",
    "num_epochs = 25  # Number of epochs\n",
    "train_losses = []\n",
    "val_losses = []\n",
    "\n",
    "for epoch in range(num_epochs):\n",
    "    print(f'Epoch {epoch}/{num_epochs - 1}')\n",
    "    print('-' * 10)\n",
    "\n",
    "    for phase in ['train', 'val']:\n",
    "        if phase == 'train':\n",
    "            model.train()\n",
    "        else:\n",
    "            model.eval()\n",
    "\n",
    "        running_loss = 0.0\n",
    "        running_corrects = 0\n",
    "\n",
    "        for inputs, labels in (train_dl if phase == 'train' else val_dl):\n",
    "            inputs, labels = inputs.to(device), labels.to(device)\n",
    "\n",
    "            optimizer.zero_grad()\n",
    "\n",
    "            with torch.set_grad_enabled(phase == 'train'):\n",
    "                outputs = model(inputs)\n",
    "                _, preds = torch.max(outputs, 1)\n",
    "                loss = criterion(outputs, labels)\n",
    "\n",
    "                if phase == 'train':\n",
    "                    loss.backward()\n",
    "                    optimizer.step()\n",
    "\n",
    "            running_loss += loss.item() * inputs.size(0)\n",
    "            running_corrects += torch.sum(preds == labels.data).item()\n",
    "\n",
    "        epoch_loss = running_loss / len(train_dataset if phase == 'train' else val_dataset)\n",
    "        epoch_acc = running_corrects / len(train_dataset if phase == 'train' else val_dataset)\n",
    "\n",
    "        print(f'{phase} Loss: {epoch_loss:.4f} Acc: {epoch_acc:.4f}')\n",
    "\n",
    "        if phase == 'train':\n",
    "            train_losses.append(epoch_loss)\n",
    "        else:\n",
    "            val_losses.append(epoch_loss)\n",
    "            scheduler.step(epoch_loss)\n",
    "\n",
    "    current_lr = optimizer.param_groups[0]['lr']\n",
    "    print(f'Current learning rate: {current_lr:.6f}')\n",
    "\n",
    "print('Training complete')\n",
    "\n",
    "# Plot the training and validation losses\n",
    "plt.figure(figsize=(10, 5))\n",
    "plt.plot(train_losses, label='Training Loss')\n",
    "plt.plot(val_losses, label='Validation Loss')\n",
    "plt.xlabel('Epochs')\n",
    "plt.ylabel('Loss')\n",
    "plt.title('Training and Validation Loss over Epochs')\n",
    "plt.legend()\n",
    "plt.show()\n",
    "\n",
    "torch.save(model.state_dict(), 'swin_transformer_emotion_model.pth')"
   ],
   "metadata": {
    "collapsed": false,
    "ExecuteTime": {
     "end_time": "2024-06-25T16:17:21.187036900Z",
     "start_time": "2024-06-25T11:39:08.742823500Z"
    }
   },
   "id": "3ceabf1666c3fc92"
  },
  {
   "cell_type": "code",
   "execution_count": 11,
   "outputs": [],
   "source": [
    "# Test the model\n",
    "test_dir = 'data/test'\n",
    "test_files = [os.path.join(test_dir, img_file) for img_file in os.listdir(test_dir)]\n",
    "test_dataset = EmotionDataset(test_files, transform=transform_val)\n",
    "test_dl = DataLoader(test_dataset, batch_size=16, shuffle=False)\n",
    "\n",
    "model.eval()\n",
    "results = []\n",
    "\n",
    "for inputs in test_dl:\n",
    "    inputs = inputs.to(device)\n",
    "    with torch.no_grad():\n",
    "        outputs = model(inputs)\n",
    "        _, preds = torch.max(outputs, 1)\n",
    "        preds = preds.cpu().numpy()\n",
    "        results.extend(preds)\n",
    "\n",
    "results_df = pd.DataFrame({'Id': [os.path.basename(file) for file in test_files], 'emotions': [emotions[pred] for pred in results]})\n",
    "results_df.to_csv('predictions_swin.csv', index=False)"
   ],
   "metadata": {
    "collapsed": false,
    "ExecuteTime": {
     "end_time": "2024-06-25T20:21:44.630391100Z",
     "start_time": "2024-06-25T20:20:38.341260700Z"
    }
   },
   "id": "d9d3d9bb5b44e7c5"
  },
  {
   "cell_type": "markdown",
   "source": [
    "We achieved a validation accuracy of ~XX% with the Swin model and a Kaggle score of XX%."
   ],
   "metadata": {
    "collapsed": false
   },
   "id": "b9cb3e9808d4be01"
  },
  {
   "cell_type": "markdown",
   "source": [
    "# Resnet\n",
    "\n",
    "After trying many different things with Densenet and Swin we went \"back to basic\" and just used a simple Resnet model which we already know is a pretty common choice for image classification due to the course. We did that because we've observed that it seems like (especially for pretrained models) they seem to perform best on our optimization problem if we don't modify them too much and not overcomplicate things. We used the Resnet18 and Resnet50 model and experimented with different fully connected layers and dropout rates. We also tried to use different learning rates and optimizers but ended up with the following configuration as it gave us the best results in terms of validation accuracy scores and Kaggle score.  \n",
    "\n",
    "The main difference between RESNET18 and RESNET50 is the size of its layers with RESNET18 having 18 layers and RESNET50 having 50 layers. In the course exercises we mostly worked with RESNET18, but in this notebook we will also have a look at RESNET50."
   ],
   "metadata": {
    "collapsed": false
   },
   "id": "f7fc48a15e70d66c"
  },
  {
   "cell_type": "markdown",
   "source": [],
   "metadata": {
    "collapsed": false
   },
   "id": "f5f3f002013e8a57"
  },
  {
   "cell_type": "markdown",
   "source": [
    "## Resnet18\n",
    "\n",
    "We started with Resnet18 to check the validity of Resnet to solve our classification problem having in mind that we can switch to Resnet50 if we need more complexity.  \n",
    "We achieved a validation accuracy of XXXX% with this model and a Kaggle score of XXXX%."
   ],
   "metadata": {
    "collapsed": false
   },
   "id": "cba981c32409cd23"
  },
  {
   "cell_type": "markdown",
   "source": [
    "## 4. Conclusion\n",
    "- describe that we used esemble methods to combine different models and grid search to find the best hyperparameters\n",
    "- Tough times with overfitting. We tried everything to optimize that - weights and biases, dropout, data augmentation, early stopping, etc. - as nothing helped to much, we don't have to much regularization in the final model\n",
    "- mention limitations (e.g. data quality, model performance, complexity of training in order to achieve slightly better results)\n",
    "- explain things we considered but did not implement as k-fold cross validation, more extended grid search for more models, etc."
   ],
   "metadata": {
    "collapsed": false
   },
   "id": "89c397255fdd8e48"
  }
 ],
 "metadata": {
  "kernelspec": {
   "display_name": "Python 3",
   "language": "python",
   "name": "python3"
  },
  "language_info": {
   "codemirror_mode": {
    "name": "ipython",
    "version": 2
   },
   "file_extension": ".py",
   "mimetype": "text/x-python",
   "name": "python",
   "nbconvert_exporter": "python",
   "pygments_lexer": "ipython2",
   "version": "2.7.6"
  }
 },
 "nbformat": 4,
 "nbformat_minor": 5
}
