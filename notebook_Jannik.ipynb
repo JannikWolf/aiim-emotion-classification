{
 "cells": [
  {
   "cell_type": "code",
   "execution_count": 5,
   "id": "initial_id",
   "metadata": {
    "collapsed": true,
    "ExecuteTime": {
     "end_time": "2024-05-25T10:37:08.070928Z",
     "start_time": "2024-05-25T10:37:02.560485Z"
    }
   },
   "outputs": [
    {
     "name": "stdout",
     "output_type": "stream",
     "text": [
      "Training data shape: (9108, 100, 100)\n",
      "Training labels shape: (9108,)\n"
     ]
    }
   ],
   "source": [
    "import os\n",
    "import numpy as np\n",
    "import pandas as pd\n",
    "import matplotlib.pyplot as plt\n",
    "from skimage.io import imread\n",
    "from skimage.transform import resize\n",
    "from tensorflow.keras.preprocessing.image import ImageDataGenerator\n",
    "from tensorflow.keras.models import Sequential\n",
    "from tensorflow.keras.layers import Conv2D, MaxPooling2D, Flatten, Dense, Dropout\n",
    "from tensorflow.keras.utils import to_categorical\n",
    "from sklearn.model_selection import train_test_split\n",
    "\n",
    "# Define paths\n",
    "train_dir = 'data/train'\n",
    "test_dir = 'data/test'\n",
    "\n",
    "# Image dimensions\n",
    "img_height, img_width = 100, 100\n",
    "\n",
    "# Load training data\n",
    "train_data = []\n",
    "train_labels = []\n",
    "\n",
    "emotions = ['angry', 'fear', 'happy', 'sad', 'surprise']\n",
    "\n",
    "for emotion in emotions:\n",
    "    emotion_dir = os.path.join(train_dir, emotion)\n",
    "    for img_name in os.listdir(emotion_dir):\n",
    "        img_path = os.path.join(emotion_dir, img_name)\n",
    "        img = imread(img_path, as_gray=True)  # Load image as grayscale\n",
    "        img_resized = resize(img, (img_height, img_width), anti_aliasing=True)\n",
    "        train_data.append(img_resized)\n",
    "        train_labels.append(emotion)\n",
    "\n",
    "train_data = np.array(train_data)\n",
    "train_labels = np.array(train_labels)\n",
    "\n",
    "# Check the shape of the data\n",
    "print(f\"Training data shape: {train_data.shape}\")\n",
    "print(f\"Training labels shape: {train_labels.shape}\")\n"
   ]
  },
  {
   "cell_type": "code",
   "execution_count": 6,
   "outputs": [
    {
     "name": "stdout",
     "output_type": "stream",
     "text": [
      "X_train shape: (7286, 100, 100, 1)\n",
      "y_train shape: (7286, 5)\n",
      "X_val shape: (1822, 100, 100, 1)\n",
      "y_val shape: (1822, 5)\n"
     ]
    }
   ],
   "source": [
    "# Normalize image data to 0-1 range\n",
    "train_data = train_data.reshape(-1, img_height, img_width, 1) / 255.0\n",
    "\n",
    "# Encode labels\n",
    "label_map = {emotion: i for i, emotion in enumerate(emotions)}\n",
    "train_labels_encoded = np.array([label_map[label] for label in train_labels])\n",
    "train_labels_categorical = to_categorical(train_labels_encoded)\n",
    "\n",
    "# Split data into training and validation sets\n",
    "X_train, X_val, y_train, y_val = train_test_split(train_data, train_labels_categorical, test_size=0.2, random_state=42)\n",
    "\n",
    "# Check the shape of the data after preprocessing\n",
    "print(f\"X_train shape: {X_train.shape}\")\n",
    "print(f\"y_train shape: {y_train.shape}\")\n",
    "print(f\"X_val shape: {X_val.shape}\")\n",
    "print(f\"y_val shape: {y_val.shape}\")\n"
   ],
   "metadata": {
    "collapsed": false,
    "ExecuteTime": {
     "end_time": "2024-05-25T10:37:08.619068Z",
     "start_time": "2024-05-25T10:37:08.070715Z"
    }
   },
   "id": "f29919e18d0debbf"
  },
  {
   "cell_type": "code",
   "execution_count": 7,
   "outputs": [
    {
     "name": "stderr",
     "output_type": "stream",
     "text": [
      "WARNING:absl:At this time, the v2.11+ optimizer `tf.keras.optimizers.Adam` runs slowly on M1/M2 Macs, please use the legacy Keras optimizer instead, located at `tf.keras.optimizers.legacy.Adam`.\n",
      "WARNING:absl:There is a known slowdown when using v2.11+ Keras optimizers on M1/M2 Macs. Falling back to the legacy Keras optimizer, i.e., `tf.keras.optimizers.legacy.Adam`.\n"
     ]
    },
    {
     "name": "stdout",
     "output_type": "stream",
     "text": [
      "Model: \"sequential_1\"\n",
      "_________________________________________________________________\n",
      " Layer (type)                Output Shape              Param #   \n",
      "=================================================================\n",
      " conv2d_3 (Conv2D)           (None, 98, 98, 32)        320       \n",
      "                                                                 \n",
      " max_pooling2d_3 (MaxPooling  (None, 49, 49, 32)       0         \n",
      " 2D)                                                             \n",
      "                                                                 \n",
      " conv2d_4 (Conv2D)           (None, 47, 47, 64)        18496     \n",
      "                                                                 \n",
      " max_pooling2d_4 (MaxPooling  (None, 23, 23, 64)       0         \n",
      " 2D)                                                             \n",
      "                                                                 \n",
      " conv2d_5 (Conv2D)           (None, 21, 21, 128)       73856     \n",
      "                                                                 \n",
      " max_pooling2d_5 (MaxPooling  (None, 10, 10, 128)      0         \n",
      " 2D)                                                             \n",
      "                                                                 \n",
      " conv2d_6 (Conv2D)           (None, 8, 8, 128)         147584    \n",
      "                                                                 \n",
      " max_pooling2d_6 (MaxPooling  (None, 4, 4, 128)        0         \n",
      " 2D)                                                             \n",
      "                                                                 \n",
      " flatten_1 (Flatten)         (None, 2048)              0         \n",
      "                                                                 \n",
      " dense_2 (Dense)             (None, 512)               1049088   \n",
      "                                                                 \n",
      " dropout_1 (Dropout)         (None, 512)               0         \n",
      "                                                                 \n",
      " dense_3 (Dense)             (None, 5)                 2565      \n",
      "                                                                 \n",
      "=================================================================\n",
      "Total params: 1,291,909\n",
      "Trainable params: 1,291,909\n",
      "Non-trainable params: 0\n",
      "_________________________________________________________________\n"
     ]
    }
   ],
   "source": [
    "from tensorflow.keras.optimizers import Adam\n",
    "\n",
    "# Build a deeper CNN model\n",
    "model = Sequential([\n",
    "    Conv2D(32, (3, 3), activation='relu', input_shape=(100, 100, 1)),\n",
    "    MaxPooling2D((2, 2)),\n",
    "    Conv2D(64, (3, 3), activation='relu'),\n",
    "    MaxPooling2D((2, 2)),\n",
    "    Conv2D(128, (3, 3), activation='relu'),\n",
    "    MaxPooling2D((2, 2)),\n",
    "    Conv2D(128, (3, 3), activation='relu'),\n",
    "    MaxPooling2D((2, 2)),\n",
    "    Flatten(),\n",
    "    Dense(512, activation='relu'),\n",
    "    Dropout(0.5),\n",
    "    Dense(len(emotions), activation='softmax')\n",
    "])\n",
    "\n",
    "# Compile the model with a smaller learning rate\n",
    "model.compile(optimizer=Adam(learning_rate=0.0001), loss='categorical_crossentropy', metrics=['accuracy'])\n",
    "model.summary()\n"
   ],
   "metadata": {
    "collapsed": false,
    "ExecuteTime": {
     "end_time": "2024-05-25T10:37:22.307542Z",
     "start_time": "2024-05-25T10:37:22.207471Z"
    }
   },
   "id": "ecacbc14730b383c"
  },
  {
   "cell_type": "code",
   "execution_count": 9,
   "outputs": [
    {
     "name": "stdout",
     "output_type": "stream",
     "text": [
      "Epoch 1/30\n"
     ]
    },
    {
     "name": "stderr",
     "output_type": "stream",
     "text": [
      "2024-05-25 12:38:21.019986: I tensorflow/core/common_runtime/executor.cc:1197] [/device:CPU:0] (DEBUG INFO) Executor start aborting (this does not indicate an error and you can ignore this message): INVALID_ARGUMENT: You must feed a value for placeholder tensor 'Placeholder/_0' with dtype int32\n",
      "\t [[{{node Placeholder/_0}}]]\n"
     ]
    },
    {
     "name": "stdout",
     "output_type": "stream",
     "text": [
      "227/227 [==============================] - 23s 101ms/step - loss: 1.5884 - accuracy: 0.2204 - val_loss: 1.5911 - val_accuracy: 0.2097\n",
      "Epoch 2/30\n",
      "227/227 [==============================] - 23s 103ms/step - loss: 1.5892 - accuracy: 0.2239 - val_loss: 1.5890 - val_accuracy: 0.2097\n",
      "Epoch 3/30\n",
      "227/227 [==============================] - 24s 105ms/step - loss: 1.5893 - accuracy: 0.2167 - val_loss: 1.5902 - val_accuracy: 0.2097\n",
      "Epoch 4/30\n",
      " 90/227 [==========>...................] - ETA: 14s - loss: 1.5911 - accuracy: 0.2233"
     ]
    },
    {
     "ename": "KeyboardInterrupt",
     "evalue": "",
     "output_type": "error",
     "traceback": [
      "\u001B[0;31m---------------------------------------------------------------------------\u001B[0m",
      "\u001B[0;31mKeyboardInterrupt\u001B[0m                         Traceback (most recent call last)",
      "Cell \u001B[0;32mIn[9], line 16\u001B[0m\n\u001B[1;32m     13\u001B[0m batch_size \u001B[38;5;241m=\u001B[39m \u001B[38;5;241m32\u001B[39m\n\u001B[1;32m     14\u001B[0m train_generator \u001B[38;5;241m=\u001B[39m datagen\u001B[38;5;241m.\u001B[39mflow(X_train, y_train, batch_size\u001B[38;5;241m=\u001B[39mbatch_size)\n\u001B[0;32m---> 16\u001B[0m history \u001B[38;5;241m=\u001B[39m model\u001B[38;5;241m.\u001B[39mfit(train_generator, epochs\u001B[38;5;241m=\u001B[39m\u001B[38;5;241m30\u001B[39m, validation_data\u001B[38;5;241m=\u001B[39m(X_val, y_val), steps_per_epoch\u001B[38;5;241m=\u001B[39m\u001B[38;5;28mlen\u001B[39m(X_train) \u001B[38;5;241m/\u001B[39m\u001B[38;5;241m/\u001B[39m batch_size)\n",
      "File \u001B[0;32m~/anaconda3/lib/python3.11/site-packages/keras/utils/traceback_utils.py:65\u001B[0m, in \u001B[0;36mfilter_traceback.<locals>.error_handler\u001B[0;34m(*args, **kwargs)\u001B[0m\n\u001B[1;32m     63\u001B[0m filtered_tb \u001B[38;5;241m=\u001B[39m \u001B[38;5;28;01mNone\u001B[39;00m\n\u001B[1;32m     64\u001B[0m \u001B[38;5;28;01mtry\u001B[39;00m:\n\u001B[0;32m---> 65\u001B[0m     \u001B[38;5;28;01mreturn\u001B[39;00m fn(\u001B[38;5;241m*\u001B[39margs, \u001B[38;5;241m*\u001B[39m\u001B[38;5;241m*\u001B[39mkwargs)\n\u001B[1;32m     66\u001B[0m \u001B[38;5;28;01mexcept\u001B[39;00m \u001B[38;5;167;01mException\u001B[39;00m \u001B[38;5;28;01mas\u001B[39;00m e:\n\u001B[1;32m     67\u001B[0m     filtered_tb \u001B[38;5;241m=\u001B[39m _process_traceback_frames(e\u001B[38;5;241m.\u001B[39m__traceback__)\n",
      "File \u001B[0;32m~/anaconda3/lib/python3.11/site-packages/keras/engine/training.py:1685\u001B[0m, in \u001B[0;36mModel.fit\u001B[0;34m(self, x, y, batch_size, epochs, verbose, callbacks, validation_split, validation_data, shuffle, class_weight, sample_weight, initial_epoch, steps_per_epoch, validation_steps, validation_batch_size, validation_freq, max_queue_size, workers, use_multiprocessing)\u001B[0m\n\u001B[1;32m   1677\u001B[0m \u001B[38;5;28;01mwith\u001B[39;00m tf\u001B[38;5;241m.\u001B[39mprofiler\u001B[38;5;241m.\u001B[39mexperimental\u001B[38;5;241m.\u001B[39mTrace(\n\u001B[1;32m   1678\u001B[0m     \u001B[38;5;124m\"\u001B[39m\u001B[38;5;124mtrain\u001B[39m\u001B[38;5;124m\"\u001B[39m,\n\u001B[1;32m   1679\u001B[0m     epoch_num\u001B[38;5;241m=\u001B[39mepoch,\n\u001B[0;32m   (...)\u001B[0m\n\u001B[1;32m   1682\u001B[0m     _r\u001B[38;5;241m=\u001B[39m\u001B[38;5;241m1\u001B[39m,\n\u001B[1;32m   1683\u001B[0m ):\n\u001B[1;32m   1684\u001B[0m     callbacks\u001B[38;5;241m.\u001B[39mon_train_batch_begin(step)\n\u001B[0;32m-> 1685\u001B[0m     tmp_logs \u001B[38;5;241m=\u001B[39m \u001B[38;5;28mself\u001B[39m\u001B[38;5;241m.\u001B[39mtrain_function(iterator)\n\u001B[1;32m   1686\u001B[0m     \u001B[38;5;28;01mif\u001B[39;00m data_handler\u001B[38;5;241m.\u001B[39mshould_sync:\n\u001B[1;32m   1687\u001B[0m         context\u001B[38;5;241m.\u001B[39masync_wait()\n",
      "File \u001B[0;32m~/anaconda3/lib/python3.11/site-packages/tensorflow/python/util/traceback_utils.py:150\u001B[0m, in \u001B[0;36mfilter_traceback.<locals>.error_handler\u001B[0;34m(*args, **kwargs)\u001B[0m\n\u001B[1;32m    148\u001B[0m filtered_tb \u001B[38;5;241m=\u001B[39m \u001B[38;5;28;01mNone\u001B[39;00m\n\u001B[1;32m    149\u001B[0m \u001B[38;5;28;01mtry\u001B[39;00m:\n\u001B[0;32m--> 150\u001B[0m   \u001B[38;5;28;01mreturn\u001B[39;00m fn(\u001B[38;5;241m*\u001B[39margs, \u001B[38;5;241m*\u001B[39m\u001B[38;5;241m*\u001B[39mkwargs)\n\u001B[1;32m    151\u001B[0m \u001B[38;5;28;01mexcept\u001B[39;00m \u001B[38;5;167;01mException\u001B[39;00m \u001B[38;5;28;01mas\u001B[39;00m e:\n\u001B[1;32m    152\u001B[0m   filtered_tb \u001B[38;5;241m=\u001B[39m _process_traceback_frames(e\u001B[38;5;241m.\u001B[39m__traceback__)\n",
      "File \u001B[0;32m~/anaconda3/lib/python3.11/site-packages/tensorflow/python/eager/polymorphic_function/polymorphic_function.py:894\u001B[0m, in \u001B[0;36mFunction.__call__\u001B[0;34m(self, *args, **kwds)\u001B[0m\n\u001B[1;32m    891\u001B[0m compiler \u001B[38;5;241m=\u001B[39m \u001B[38;5;124m\"\u001B[39m\u001B[38;5;124mxla\u001B[39m\u001B[38;5;124m\"\u001B[39m \u001B[38;5;28;01mif\u001B[39;00m \u001B[38;5;28mself\u001B[39m\u001B[38;5;241m.\u001B[39m_jit_compile \u001B[38;5;28;01melse\u001B[39;00m \u001B[38;5;124m\"\u001B[39m\u001B[38;5;124mnonXla\u001B[39m\u001B[38;5;124m\"\u001B[39m\n\u001B[1;32m    893\u001B[0m \u001B[38;5;28;01mwith\u001B[39;00m OptionalXlaContext(\u001B[38;5;28mself\u001B[39m\u001B[38;5;241m.\u001B[39m_jit_compile):\n\u001B[0;32m--> 894\u001B[0m   result \u001B[38;5;241m=\u001B[39m \u001B[38;5;28mself\u001B[39m\u001B[38;5;241m.\u001B[39m_call(\u001B[38;5;241m*\u001B[39margs, \u001B[38;5;241m*\u001B[39m\u001B[38;5;241m*\u001B[39mkwds)\n\u001B[1;32m    896\u001B[0m new_tracing_count \u001B[38;5;241m=\u001B[39m \u001B[38;5;28mself\u001B[39m\u001B[38;5;241m.\u001B[39mexperimental_get_tracing_count()\n\u001B[1;32m    897\u001B[0m without_tracing \u001B[38;5;241m=\u001B[39m (tracing_count \u001B[38;5;241m==\u001B[39m new_tracing_count)\n",
      "File \u001B[0;32m~/anaconda3/lib/python3.11/site-packages/tensorflow/python/eager/polymorphic_function/polymorphic_function.py:926\u001B[0m, in \u001B[0;36mFunction._call\u001B[0;34m(self, *args, **kwds)\u001B[0m\n\u001B[1;32m    923\u001B[0m   \u001B[38;5;28mself\u001B[39m\u001B[38;5;241m.\u001B[39m_lock\u001B[38;5;241m.\u001B[39mrelease()\n\u001B[1;32m    924\u001B[0m   \u001B[38;5;66;03m# In this case we have created variables on the first call, so we run the\u001B[39;00m\n\u001B[1;32m    925\u001B[0m   \u001B[38;5;66;03m# defunned version which is guaranteed to never create variables.\u001B[39;00m\n\u001B[0;32m--> 926\u001B[0m   \u001B[38;5;28;01mreturn\u001B[39;00m \u001B[38;5;28mself\u001B[39m\u001B[38;5;241m.\u001B[39m_no_variable_creation_fn(\u001B[38;5;241m*\u001B[39margs, \u001B[38;5;241m*\u001B[39m\u001B[38;5;241m*\u001B[39mkwds)  \u001B[38;5;66;03m# pylint: disable=not-callable\u001B[39;00m\n\u001B[1;32m    927\u001B[0m \u001B[38;5;28;01melif\u001B[39;00m \u001B[38;5;28mself\u001B[39m\u001B[38;5;241m.\u001B[39m_variable_creation_fn \u001B[38;5;129;01mis\u001B[39;00m \u001B[38;5;129;01mnot\u001B[39;00m \u001B[38;5;28;01mNone\u001B[39;00m:\n\u001B[1;32m    928\u001B[0m   \u001B[38;5;66;03m# Release the lock early so that multiple threads can perform the call\u001B[39;00m\n\u001B[1;32m    929\u001B[0m   \u001B[38;5;66;03m# in parallel.\u001B[39;00m\n\u001B[1;32m    930\u001B[0m   \u001B[38;5;28mself\u001B[39m\u001B[38;5;241m.\u001B[39m_lock\u001B[38;5;241m.\u001B[39mrelease()\n",
      "File \u001B[0;32m~/anaconda3/lib/python3.11/site-packages/tensorflow/python/eager/polymorphic_function/tracing_compiler.py:143\u001B[0m, in \u001B[0;36mTracingCompiler.__call__\u001B[0;34m(self, *args, **kwargs)\u001B[0m\n\u001B[1;32m    140\u001B[0m \u001B[38;5;28;01mwith\u001B[39;00m \u001B[38;5;28mself\u001B[39m\u001B[38;5;241m.\u001B[39m_lock:\n\u001B[1;32m    141\u001B[0m   (concrete_function,\n\u001B[1;32m    142\u001B[0m    filtered_flat_args) \u001B[38;5;241m=\u001B[39m \u001B[38;5;28mself\u001B[39m\u001B[38;5;241m.\u001B[39m_maybe_define_function(args, kwargs)\n\u001B[0;32m--> 143\u001B[0m \u001B[38;5;28;01mreturn\u001B[39;00m concrete_function\u001B[38;5;241m.\u001B[39m_call_flat(\n\u001B[1;32m    144\u001B[0m     filtered_flat_args, captured_inputs\u001B[38;5;241m=\u001B[39mconcrete_function\u001B[38;5;241m.\u001B[39mcaptured_inputs)\n",
      "File \u001B[0;32m~/anaconda3/lib/python3.11/site-packages/tensorflow/python/eager/polymorphic_function/monomorphic_function.py:1757\u001B[0m, in \u001B[0;36mConcreteFunction._call_flat\u001B[0;34m(self, args, captured_inputs, cancellation_manager)\u001B[0m\n\u001B[1;32m   1753\u001B[0m possible_gradient_type \u001B[38;5;241m=\u001B[39m gradients_util\u001B[38;5;241m.\u001B[39mPossibleTapeGradientTypes(args)\n\u001B[1;32m   1754\u001B[0m \u001B[38;5;28;01mif\u001B[39;00m (possible_gradient_type \u001B[38;5;241m==\u001B[39m gradients_util\u001B[38;5;241m.\u001B[39mPOSSIBLE_GRADIENT_TYPES_NONE\n\u001B[1;32m   1755\u001B[0m     \u001B[38;5;129;01mand\u001B[39;00m executing_eagerly):\n\u001B[1;32m   1756\u001B[0m   \u001B[38;5;66;03m# No tape is watching; skip to running the function.\u001B[39;00m\n\u001B[0;32m-> 1757\u001B[0m   \u001B[38;5;28;01mreturn\u001B[39;00m \u001B[38;5;28mself\u001B[39m\u001B[38;5;241m.\u001B[39m_build_call_outputs(\u001B[38;5;28mself\u001B[39m\u001B[38;5;241m.\u001B[39m_inference_function\u001B[38;5;241m.\u001B[39mcall(\n\u001B[1;32m   1758\u001B[0m       ctx, args, cancellation_manager\u001B[38;5;241m=\u001B[39mcancellation_manager))\n\u001B[1;32m   1759\u001B[0m forward_backward \u001B[38;5;241m=\u001B[39m \u001B[38;5;28mself\u001B[39m\u001B[38;5;241m.\u001B[39m_select_forward_and_backward_functions(\n\u001B[1;32m   1760\u001B[0m     args,\n\u001B[1;32m   1761\u001B[0m     possible_gradient_type,\n\u001B[1;32m   1762\u001B[0m     executing_eagerly)\n\u001B[1;32m   1763\u001B[0m forward_function, args_with_tangents \u001B[38;5;241m=\u001B[39m forward_backward\u001B[38;5;241m.\u001B[39mforward()\n",
      "File \u001B[0;32m~/anaconda3/lib/python3.11/site-packages/tensorflow/python/eager/polymorphic_function/monomorphic_function.py:381\u001B[0m, in \u001B[0;36m_EagerDefinedFunction.call\u001B[0;34m(self, ctx, args, cancellation_manager)\u001B[0m\n\u001B[1;32m    379\u001B[0m \u001B[38;5;28;01mwith\u001B[39;00m _InterpolateFunctionError(\u001B[38;5;28mself\u001B[39m):\n\u001B[1;32m    380\u001B[0m   \u001B[38;5;28;01mif\u001B[39;00m cancellation_manager \u001B[38;5;129;01mis\u001B[39;00m \u001B[38;5;28;01mNone\u001B[39;00m:\n\u001B[0;32m--> 381\u001B[0m     outputs \u001B[38;5;241m=\u001B[39m execute\u001B[38;5;241m.\u001B[39mexecute(\n\u001B[1;32m    382\u001B[0m         \u001B[38;5;28mstr\u001B[39m(\u001B[38;5;28mself\u001B[39m\u001B[38;5;241m.\u001B[39msignature\u001B[38;5;241m.\u001B[39mname),\n\u001B[1;32m    383\u001B[0m         num_outputs\u001B[38;5;241m=\u001B[39m\u001B[38;5;28mself\u001B[39m\u001B[38;5;241m.\u001B[39m_num_outputs,\n\u001B[1;32m    384\u001B[0m         inputs\u001B[38;5;241m=\u001B[39margs,\n\u001B[1;32m    385\u001B[0m         attrs\u001B[38;5;241m=\u001B[39mattrs,\n\u001B[1;32m    386\u001B[0m         ctx\u001B[38;5;241m=\u001B[39mctx)\n\u001B[1;32m    387\u001B[0m   \u001B[38;5;28;01melse\u001B[39;00m:\n\u001B[1;32m    388\u001B[0m     outputs \u001B[38;5;241m=\u001B[39m execute\u001B[38;5;241m.\u001B[39mexecute_with_cancellation(\n\u001B[1;32m    389\u001B[0m         \u001B[38;5;28mstr\u001B[39m(\u001B[38;5;28mself\u001B[39m\u001B[38;5;241m.\u001B[39msignature\u001B[38;5;241m.\u001B[39mname),\n\u001B[1;32m    390\u001B[0m         num_outputs\u001B[38;5;241m=\u001B[39m\u001B[38;5;28mself\u001B[39m\u001B[38;5;241m.\u001B[39m_num_outputs,\n\u001B[0;32m   (...)\u001B[0m\n\u001B[1;32m    393\u001B[0m         ctx\u001B[38;5;241m=\u001B[39mctx,\n\u001B[1;32m    394\u001B[0m         cancellation_manager\u001B[38;5;241m=\u001B[39mcancellation_manager)\n",
      "File \u001B[0;32m~/anaconda3/lib/python3.11/site-packages/tensorflow/python/eager/execute.py:52\u001B[0m, in \u001B[0;36mquick_execute\u001B[0;34m(op_name, num_outputs, inputs, attrs, ctx, name)\u001B[0m\n\u001B[1;32m     50\u001B[0m \u001B[38;5;28;01mtry\u001B[39;00m:\n\u001B[1;32m     51\u001B[0m   ctx\u001B[38;5;241m.\u001B[39mensure_initialized()\n\u001B[0;32m---> 52\u001B[0m   tensors \u001B[38;5;241m=\u001B[39m pywrap_tfe\u001B[38;5;241m.\u001B[39mTFE_Py_Execute(ctx\u001B[38;5;241m.\u001B[39m_handle, device_name, op_name,\n\u001B[1;32m     53\u001B[0m                                       inputs, attrs, num_outputs)\n\u001B[1;32m     54\u001B[0m \u001B[38;5;28;01mexcept\u001B[39;00m core\u001B[38;5;241m.\u001B[39m_NotOkStatusException \u001B[38;5;28;01mas\u001B[39;00m e:\n\u001B[1;32m     55\u001B[0m   \u001B[38;5;28;01mif\u001B[39;00m name \u001B[38;5;129;01mis\u001B[39;00m \u001B[38;5;129;01mnot\u001B[39;00m \u001B[38;5;28;01mNone\u001B[39;00m:\n",
      "\u001B[0;31mKeyboardInterrupt\u001B[0m: "
     ]
    }
   ],
   "source": [
    "# Data augmentation\n",
    "datagen = ImageDataGenerator(\n",
    "    rotation_range=10,\n",
    "    width_shift_range=0.1,\n",
    "    height_shift_range=0.1,\n",
    "    shear_range=0.1,\n",
    "    zoom_range=0.1,\n",
    "    horizontal_flip=True,\n",
    "    fill_mode='nearest'\n",
    ")\n",
    "\n",
    "# Fit the model with data augmentation\n",
    "batch_size = 32\n",
    "train_generator = datagen.flow(X_train, y_train, batch_size=batch_size)\n",
    "\n",
    "history = model.fit(train_generator, epochs=30, validation_data=(X_val, y_val), steps_per_epoch=len(X_train) // batch_size)\n"
   ],
   "metadata": {
    "collapsed": false,
    "ExecuteTime": {
     "end_time": "2024-05-25T10:39:41.269326Z",
     "start_time": "2024-05-25T10:38:20.787936Z"
    }
   },
   "id": "84ed522aefa6453c"
  },
  {
   "cell_type": "code",
   "execution_count": null,
   "outputs": [],
   "source": [
    "# Evaluate the model\n",
    "val_loss, val_acc = model.evaluate(X_val, y_val)\n",
    "print(f'Validation Accuracy: {val_acc * 100:.2f}%')"
   ],
   "metadata": {
    "collapsed": false
   },
   "id": "5326f3c8abcd961"
  },
  {
   "cell_type": "code",
   "execution_count": null,
   "outputs": [],
   "source": [
    "# Load and preprocess test data\n",
    "test_data = []\n",
    "test_ids = []\n",
    "\n",
    "for img_name in os.listdir(test_dir):\n",
    "    img_path = os.path.join(test_dir, img_name)\n",
    "    img = plt.imread(img_path)\n",
    "    test_data.append(img)\n",
    "    test_ids.append(img_name)\n",
    "\n",
    "test_data = np.array(test_data) / 255.0\n",
    "\n",
    "# Predict test data\n",
    "predictions = model.predict(test_data)\n",
    "predicted_labels = [emotions[np.argmax(pred)] for pred in predictions]\n",
    "\n",
    "# Create submission DataFrame\n",
    "submission_df = pd.DataFrame({\n",
    "    'Id': test_ids,\n",
    "    'emotions': predicted_labels\n",
    "})\n",
    "\n",
    "# Save to CSV\n",
    "submission_df.to_csv('submission.csv', index=False)"
   ],
   "metadata": {
    "collapsed": false
   },
   "id": "1f009a0889562b06"
  },
  {
   "cell_type": "code",
   "execution_count": 12,
   "outputs": [
    {
     "name": "stdout",
     "output_type": "stream",
     "text": [
      "Epoch 1/50\n"
     ]
    },
    {
     "name": "stderr",
     "output_type": "stream",
     "text": [
      "2024-05-25 20:52:55.000981: I tensorflow/core/common_runtime/executor.cc:1197] [/device:CPU:0] (DEBUG INFO) Executor start aborting (this does not indicate an error and you can ignore this message): INVALID_ARGUMENT: You must feed a value for placeholder tensor 'Placeholder/_0' with dtype int32\n",
      "\t [[{{node Placeholder/_0}}]]\n"
     ]
    },
    {
     "name": "stdout",
     "output_type": "stream",
     "text": [
      "114/114 [==============================] - 31s 264ms/step - loss: 2.1254 - accuracy: 0.2731 - val_loss: 5.3394 - val_accuracy: 0.2102 - lr: 0.0010\n",
      "Epoch 2/50\n",
      "114/114 [==============================] - 31s 270ms/step - loss: 1.7364 - accuracy: 0.3254 - val_loss: 2.6490 - val_accuracy: 0.2256 - lr: 0.0010\n",
      "Epoch 3/50\n",
      "114/114 [==============================] - 31s 268ms/step - loss: 1.5568 - accuracy: 0.3851 - val_loss: 2.6799 - val_accuracy: 0.2267 - lr: 0.0010\n",
      "Epoch 4/50\n",
      "114/114 [==============================] - 32s 277ms/step - loss: 1.4355 - accuracy: 0.4204 - val_loss: 1.5416 - val_accuracy: 0.3897 - lr: 0.0010\n",
      "Epoch 5/50\n",
      "114/114 [==============================] - 31s 273ms/step - loss: 1.3330 - accuracy: 0.4634 - val_loss: 2.8340 - val_accuracy: 0.2574 - lr: 0.0010\n",
      "Epoch 6/50\n",
      "114/114 [==============================] - 33s 292ms/step - loss: 1.2681 - accuracy: 0.4876 - val_loss: 1.4211 - val_accuracy: 0.3672 - lr: 0.0010\n",
      "Epoch 7/50\n",
      "114/114 [==============================] - 32s 278ms/step - loss: 1.1976 - accuracy: 0.5184 - val_loss: 1.9238 - val_accuracy: 0.2783 - lr: 0.0010\n",
      "Epoch 8/50\n",
      "114/114 [==============================] - 33s 287ms/step - loss: 1.1610 - accuracy: 0.5336 - val_loss: 1.0410 - val_accuracy: 0.6026 - lr: 0.0010\n",
      "Epoch 9/50\n",
      "114/114 [==============================] - 33s 291ms/step - loss: 1.1323 - accuracy: 0.5406 - val_loss: 1.2825 - val_accuracy: 0.5044 - lr: 0.0010\n",
      "Epoch 10/50\n",
      "114/114 [==============================] - 32s 283ms/step - loss: 1.0784 - accuracy: 0.5694 - val_loss: 1.0060 - val_accuracy: 0.5939 - lr: 0.0010\n",
      "Epoch 11/50\n",
      "114/114 [==============================] - 33s 293ms/step - loss: 1.0518 - accuracy: 0.5804 - val_loss: 1.2204 - val_accuracy: 0.5362 - lr: 0.0010\n",
      "Epoch 12/50\n",
      "114/114 [==============================] - 35s 310ms/step - loss: 1.0358 - accuracy: 0.5914 - val_loss: 0.9657 - val_accuracy: 0.6306 - lr: 0.0010\n",
      "Epoch 13/50\n",
      "114/114 [==============================] - 36s 314ms/step - loss: 1.0151 - accuracy: 0.6016 - val_loss: 1.1446 - val_accuracy: 0.5917 - lr: 0.0010\n",
      "Epoch 14/50\n",
      "114/114 [==============================] - 36s 316ms/step - loss: 1.0023 - accuracy: 0.6043 - val_loss: 0.9574 - val_accuracy: 0.6400 - lr: 0.0010\n",
      "Epoch 15/50\n",
      "114/114 [==============================] - 35s 304ms/step - loss: 0.9781 - accuracy: 0.6163 - val_loss: 1.3487 - val_accuracy: 0.5165 - lr: 0.0010\n",
      "Epoch 16/50\n",
      "114/114 [==============================] - 35s 304ms/step - loss: 0.9685 - accuracy: 0.6186 - val_loss: 1.9402 - val_accuracy: 0.4122 - lr: 0.0010\n",
      "Epoch 17/50\n",
      "114/114 [==============================] - 35s 308ms/step - loss: 0.9512 - accuracy: 0.6241 - val_loss: 1.3359 - val_accuracy: 0.5499 - lr: 0.0010\n",
      "Epoch 18/50\n",
      "114/114 [==============================] - 35s 304ms/step - loss: 0.9148 - accuracy: 0.6368 - val_loss: 0.9965 - val_accuracy: 0.6361 - lr: 5.0000e-04\n",
      "Epoch 19/50\n",
      "114/114 [==============================] - 35s 308ms/step - loss: 0.8877 - accuracy: 0.6567 - val_loss: 0.8768 - val_accuracy: 0.6712 - lr: 5.0000e-04\n",
      "Epoch 20/50\n",
      "114/114 [==============================] - 36s 313ms/step - loss: 0.8736 - accuracy: 0.6631 - val_loss: 1.2619 - val_accuracy: 0.5746 - lr: 5.0000e-04\n",
      "Epoch 21/50\n",
      "114/114 [==============================] - 34s 296ms/step - loss: 0.8758 - accuracy: 0.6625 - val_loss: 0.8954 - val_accuracy: 0.6740 - lr: 5.0000e-04\n",
      "Epoch 22/50\n",
      "114/114 [==============================] - 33s 292ms/step - loss: 0.8442 - accuracy: 0.6777 - val_loss: 0.9955 - val_accuracy: 0.6542 - lr: 5.0000e-04\n",
      "Epoch 23/50\n",
      "114/114 [==============================] - 33s 290ms/step - loss: 0.8453 - accuracy: 0.6688 - val_loss: 1.1414 - val_accuracy: 0.6092 - lr: 2.5000e-04\n",
      "Epoch 24/50\n",
      "114/114 [==============================] - 34s 294ms/step - loss: 0.8261 - accuracy: 0.6819 - val_loss: 0.9270 - val_accuracy: 0.6652 - lr: 2.5000e-04\n",
      "Model trained successfully\n",
      "75/75 [==============================] - 3s 38ms/step\n",
      "Predictions saved to submission.csv\n"
     ]
    },
    {
     "data": {
      "text/plain": "<Figure size 800x600 with 1 Axes>",
      "image/png": "[encoded data removed]"
     },
     "metadata": {},
     "output_type": "display_data"
    }
   ],
   "source": [
    "from matplotlib import pyplot as plt\n",
    "import os\n",
    "import numpy as np\n",
    "import csv\n",
    "from tensorflow.keras.preprocessing.image import load_img, img_to_array, ImageDataGenerator\n",
    "from tensorflow.keras.utils import to_categorical\n",
    "from tensorflow.keras.models import Sequential\n",
    "from tensorflow.keras.layers import Conv2D, MaxPooling2D, Flatten, Dense, Dropout, BatchNormalization\n",
    "from tensorflow.keras.callbacks import EarlyStopping, ReduceLROnPlateau\n",
    "from sklearn.model_selection import train_test_split\n",
    "\n",
    "# Load the data\n",
    "train_dir = 'data/train'\n",
    "emotions = os.listdir(train_dir)\n",
    "X_train, y_train = [], []\n",
    "for emotion in emotions:\n",
    "    emotion_dir = os.path.join(train_dir, emotion)\n",
    "    for img_file in os.listdir(emotion_dir):\n",
    "        img_path = os.path.join(emotion_dir, img_file)\n",
    "        img = load_img(img_path, target_size=(100, 100), color_mode='grayscale')\n",
    "        img_array = img_to_array(img) / 255.0\n",
    "        X_train.append(img_array)\n",
    "        y_train.append(emotions.index(emotion))\n",
    "\n",
    "X_train = np.array(X_train)\n",
    "y_train = to_categorical(y_train, num_classes=len(emotions))\n",
    "\n",
    "# Split the data into train and validation sets\n",
    "X_train, X_val, y_train, y_val = train_test_split(X_train, y_train, test_size=0.2, random_state=42)\n",
    "\n",
    "# Reshape the data for CNN input\n",
    "X_train = X_train.reshape(X_train.shape[0], 100, 100, 1)\n",
    "X_val = X_val.reshape(X_val.shape[0], 100, 100, 1)\n",
    "\n",
    "# Data augmentation\n",
    "datagen = ImageDataGenerator(\n",
    "    rotation_range=10,\n",
    "    width_shift_range=0.1,\n",
    "    height_shift_range=0.1,\n",
    "    shear_range=0.1,\n",
    "    zoom_range=0.1,\n",
    "    horizontal_flip=True,\n",
    "    fill_mode='nearest'\n",
    ")\n",
    "datagen.fit(X_train)\n",
    "\n",
    "# Build the enhanced model\n",
    "model = Sequential([\n",
    "    Conv2D(32, (3, 3), activation='relu', input_shape=(100, 100, 1)),\n",
    "    BatchNormalization(),\n",
    "    MaxPooling2D((2, 2)),\n",
    "    Dropout(0.25),\n",
    "\n",
    "    Conv2D(64, (3, 3), activation='relu'),\n",
    "    BatchNormalization(),\n",
    "    MaxPooling2D((2, 2)),\n",
    "    Dropout(0.25),\n",
    "\n",
    "    Conv2D(128, (3, 3), activation='relu'),\n",
    "    BatchNormalization(),\n",
    "    MaxPooling2D((2, 2)),\n",
    "    Dropout(0.25),\n",
    "\n",
    "    Flatten(),\n",
    "    Dense(512, activation='relu'),\n",
    "    BatchNormalization(),\n",
    "    Dropout(0.5),\n",
    "    Dense(len(emotions), activation='softmax')\n",
    "])\n",
    "\n",
    "model.compile(optimizer='adam', loss='categorical_crossentropy', metrics=['accuracy'])\n",
    "\n",
    "# Define callbacks\n",
    "early_stop = EarlyStopping(monitor='val_loss', patience=5, restore_best_weights=True)\n",
    "reduce_lr = ReduceLROnPlateau(monitor='val_loss', factor=0.5, patience=3, min_lr=0.00001)\n",
    "\n",
    "# Train the model with data augmentation\n",
    "history = model.fit(datagen.flow(X_train, y_train, batch_size=64),\n",
    "                    validation_data=(X_val, y_val),\n",
    "                    epochs=50,\n",
    "                    callbacks=[early_stop, reduce_lr])\n",
    "\n",
    "print(\"Model trained successfully\")\n",
    "\n",
    "# Make predictions on the test set\n",
    "test_dir = 'data/test'\n",
    "X_test = []\n",
    "test_filenames = []\n",
    "for img_file in os.listdir(test_dir):\n",
    "    img_path = os.path.join(test_dir, img_file)\n",
    "    img = load_img(img_path, target_size=(100, 100), color_mode='grayscale')\n",
    "    img_array = img_to_array(img) / 255.0\n",
    "    X_test.append(img_array)\n",
    "    test_filenames.append(img_file)\n",
    "\n",
    "X_test = np.array(X_test)\n",
    "X_test = X_test.reshape(X_test.shape[0], 100, 100, 1)\n",
    "y_pred = model.predict(X_test)\n",
    "predicted_labels = [emotions[np.argmax(prob)] for prob in y_pred]\n",
    "\n",
    "# Store predictions in a CSV file\n",
    "with open('submission.csv', 'w', newline='') as csvfile:\n",
    "    writer = csv.writer(csvfile)\n",
    "    writer.writerow(['Id', 'emotions'])\n",
    "    for filename, label in zip(test_filenames, predicted_labels):\n",
    "        writer.writerow([filename, label])\n",
    "\n",
    "print(\"Predictions saved to submission.csv\")\n",
    "\n",
    "# Plot the training and validation loss\n",
    "plt.figure(figsize=(8, 6))\n",
    "plt.plot(history.history['loss'], label='Training Loss')\n",
    "plt.plot(history.history['val_loss'], label='Validation Loss')\n",
    "plt.title('Training and Validation Loss')\n",
    "plt.xlabel('Epochs')\n",
    "plt.ylabel('Loss')\n",
    "plt.legend()\n",
    "plt.show()\n"
   ],
   "metadata": {
    "collapsed": false,
    "ExecuteTime": {
     "end_time": "2024-05-25T19:06:21.167481Z",
     "start_time": "2024-05-25T18:52:52.638093Z"
    }
   },
   "id": "4ff92678dfa02e76"
  },
  {
   "cell_type": "code",
   "execution_count": null,
   "outputs": [],
   "source": [],
   "metadata": {
    "collapsed": false
   },
   "id": "39d2b51b36a411a6"
  }
 ],
 "metadata": {
  "kernelspec": {
   "display_name": "Python 3",
   "language": "python",
   "name": "python3"
  },
  "language_info": {
   "codemirror_mode": {
    "name": "ipython",
    "version": 2
   },
   "file_extension": ".py",
   "mimetype": "text/x-python",
   "name": "python",
   "nbconvert_exporter": "python",
   "pygments_lexer": "ipython2",
   "version": "2.7.6"
  }
 },
 "nbformat": 4,
 "nbformat_minor": 5
}
